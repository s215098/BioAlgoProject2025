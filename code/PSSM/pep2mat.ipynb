{
 "cells": [
  {
   "cell_type": "markdown",
   "id": "adc8ccba",
   "metadata": {},
   "source": [
    "# Creating PSSM from peptide sequences\n"
   ]
  },
  {
   "cell_type": "code",
   "execution_count": 2,
   "id": "9c3e8842",
   "metadata": {},
   "outputs": [],
   "source": [
    "### ABOUT ###\n",
    "# This script creates a PSSM from out peptide sequences."
   ]
  },
  {
   "cell_type": "code",
   "execution_count": 3,
   "id": "6619a665",
   "metadata": {},
   "outputs": [],
   "source": [
    "### Importing libraries ###\n",
    "import numpy as np\n",
    "import random\n",
    "import copy\n",
    "from scipy.stats import pearsonr\n",
    "import matplotlib.pyplot as plt\n",
    "\n",
    "%matplotlib inline"
   ]
  },
  {
   "cell_type": "code",
   "execution_count": null,
   "id": "67f4ebe7",
   "metadata": {},
   "outputs": [
    {
     "ename": "FileNotFoundError",
     "evalue": "../../data/A0101f000 not found.",
     "output_type": "error",
     "traceback": [
      "\u001b[0;31m---------------------------------------------------------------------------\u001b[0m",
      "\u001b[0;31mFileNotFoundError\u001b[0m                         Traceback (most recent call last)",
      "Cell \u001b[0;32mIn[4], line 11\u001b[0m\n\u001b[1;32m      8\u001b[0m training_file \u001b[38;5;241m=\u001b[39m data_dir \u001b[38;5;241m+\u001b[39m allele \u001b[38;5;241m+\u001b[39m \u001b[38;5;124m\"\u001b[39m\u001b[38;5;124mf000\u001b[39m\u001b[38;5;124m\"\u001b[39m \u001b[38;5;66;03m#just for one fold.\u001b[39;00m\n\u001b[1;32m      9\u001b[0m testing_file \u001b[38;5;241m=\u001b[39m data_dir \u001b[38;5;241m+\u001b[39m allele \u001b[38;5;241m+\u001b[39m \u001b[38;5;124m\"\u001b[39m\u001b[38;5;124mf000\u001b[39m\u001b[38;5;124m\"\u001b[39m \u001b[38;5;66;03m#just for one fold.\u001b[39;00m\n\u001b[0;32m---> 11\u001b[0m training \u001b[38;5;241m=\u001b[39m \u001b[43mnp\u001b[49m\u001b[38;5;241;43m.\u001b[39;49m\u001b[43mloadtxt\u001b[49m\u001b[43m(\u001b[49m\u001b[43mtraining_file\u001b[49m\u001b[43m,\u001b[49m\u001b[43m \u001b[49m\u001b[43mdtype\u001b[49m\u001b[38;5;241;43m=\u001b[39;49m\u001b[38;5;28;43mstr\u001b[39;49m\u001b[43m)\u001b[49m\n\u001b[1;32m     12\u001b[0m testing \u001b[38;5;241m=\u001b[39m np\u001b[38;5;241m.\u001b[39mloadtxt(testing_file, dtype\u001b[38;5;241m=\u001b[39m\u001b[38;5;28mstr\u001b[39m)\n",
      "File \u001b[0;32m/opt/anaconda3/envs/MyAnaEnv/lib/python3.9/site-packages/numpy/lib/npyio.py:1373\u001b[0m, in \u001b[0;36mloadtxt\u001b[0;34m(fname, dtype, comments, delimiter, converters, skiprows, usecols, unpack, ndmin, encoding, max_rows, quotechar, like)\u001b[0m\n\u001b[1;32m   1370\u001b[0m \u001b[38;5;28;01mif\u001b[39;00m \u001b[38;5;28misinstance\u001b[39m(delimiter, \u001b[38;5;28mbytes\u001b[39m):\n\u001b[1;32m   1371\u001b[0m     delimiter \u001b[38;5;241m=\u001b[39m delimiter\u001b[38;5;241m.\u001b[39mdecode(\u001b[38;5;124m'\u001b[39m\u001b[38;5;124mlatin1\u001b[39m\u001b[38;5;124m'\u001b[39m)\n\u001b[0;32m-> 1373\u001b[0m arr \u001b[38;5;241m=\u001b[39m \u001b[43m_read\u001b[49m\u001b[43m(\u001b[49m\u001b[43mfname\u001b[49m\u001b[43m,\u001b[49m\u001b[43m \u001b[49m\u001b[43mdtype\u001b[49m\u001b[38;5;241;43m=\u001b[39;49m\u001b[43mdtype\u001b[49m\u001b[43m,\u001b[49m\u001b[43m \u001b[49m\u001b[43mcomment\u001b[49m\u001b[38;5;241;43m=\u001b[39;49m\u001b[43mcomment\u001b[49m\u001b[43m,\u001b[49m\u001b[43m \u001b[49m\u001b[43mdelimiter\u001b[49m\u001b[38;5;241;43m=\u001b[39;49m\u001b[43mdelimiter\u001b[49m\u001b[43m,\u001b[49m\n\u001b[1;32m   1374\u001b[0m \u001b[43m            \u001b[49m\u001b[43mconverters\u001b[49m\u001b[38;5;241;43m=\u001b[39;49m\u001b[43mconverters\u001b[49m\u001b[43m,\u001b[49m\u001b[43m \u001b[49m\u001b[43mskiplines\u001b[49m\u001b[38;5;241;43m=\u001b[39;49m\u001b[43mskiprows\u001b[49m\u001b[43m,\u001b[49m\u001b[43m \u001b[49m\u001b[43musecols\u001b[49m\u001b[38;5;241;43m=\u001b[39;49m\u001b[43musecols\u001b[49m\u001b[43m,\u001b[49m\n\u001b[1;32m   1375\u001b[0m \u001b[43m            \u001b[49m\u001b[43munpack\u001b[49m\u001b[38;5;241;43m=\u001b[39;49m\u001b[43munpack\u001b[49m\u001b[43m,\u001b[49m\u001b[43m \u001b[49m\u001b[43mndmin\u001b[49m\u001b[38;5;241;43m=\u001b[39;49m\u001b[43mndmin\u001b[49m\u001b[43m,\u001b[49m\u001b[43m \u001b[49m\u001b[43mencoding\u001b[49m\u001b[38;5;241;43m=\u001b[39;49m\u001b[43mencoding\u001b[49m\u001b[43m,\u001b[49m\n\u001b[1;32m   1376\u001b[0m \u001b[43m            \u001b[49m\u001b[43mmax_rows\u001b[49m\u001b[38;5;241;43m=\u001b[39;49m\u001b[43mmax_rows\u001b[49m\u001b[43m,\u001b[49m\u001b[43m \u001b[49m\u001b[43mquote\u001b[49m\u001b[38;5;241;43m=\u001b[39;49m\u001b[43mquotechar\u001b[49m\u001b[43m)\u001b[49m\n\u001b[1;32m   1378\u001b[0m \u001b[38;5;28;01mreturn\u001b[39;00m arr\n",
      "File \u001b[0;32m/opt/anaconda3/envs/MyAnaEnv/lib/python3.9/site-packages/numpy/lib/npyio.py:992\u001b[0m, in \u001b[0;36m_read\u001b[0;34m(fname, delimiter, comment, quote, imaginary_unit, usecols, skiplines, max_rows, converters, ndmin, unpack, dtype, encoding)\u001b[0m\n\u001b[1;32m    990\u001b[0m     fname \u001b[38;5;241m=\u001b[39m os\u001b[38;5;241m.\u001b[39mfspath(fname)\n\u001b[1;32m    991\u001b[0m \u001b[38;5;28;01mif\u001b[39;00m \u001b[38;5;28misinstance\u001b[39m(fname, \u001b[38;5;28mstr\u001b[39m):\n\u001b[0;32m--> 992\u001b[0m     fh \u001b[38;5;241m=\u001b[39m \u001b[43mnp\u001b[49m\u001b[38;5;241;43m.\u001b[39;49m\u001b[43mlib\u001b[49m\u001b[38;5;241;43m.\u001b[39;49m\u001b[43m_datasource\u001b[49m\u001b[38;5;241;43m.\u001b[39;49m\u001b[43mopen\u001b[49m\u001b[43m(\u001b[49m\u001b[43mfname\u001b[49m\u001b[43m,\u001b[49m\u001b[43m \u001b[49m\u001b[38;5;124;43m'\u001b[39;49m\u001b[38;5;124;43mrt\u001b[39;49m\u001b[38;5;124;43m'\u001b[39;49m\u001b[43m,\u001b[49m\u001b[43m \u001b[49m\u001b[43mencoding\u001b[49m\u001b[38;5;241;43m=\u001b[39;49m\u001b[43mencoding\u001b[49m\u001b[43m)\u001b[49m\n\u001b[1;32m    993\u001b[0m     \u001b[38;5;28;01mif\u001b[39;00m encoding \u001b[38;5;129;01mis\u001b[39;00m \u001b[38;5;28;01mNone\u001b[39;00m:\n\u001b[1;32m    994\u001b[0m         encoding \u001b[38;5;241m=\u001b[39m \u001b[38;5;28mgetattr\u001b[39m(fh, \u001b[38;5;124m'\u001b[39m\u001b[38;5;124mencoding\u001b[39m\u001b[38;5;124m'\u001b[39m, \u001b[38;5;124m'\u001b[39m\u001b[38;5;124mlatin1\u001b[39m\u001b[38;5;124m'\u001b[39m)\n",
      "File \u001b[0;32m/opt/anaconda3/envs/MyAnaEnv/lib/python3.9/site-packages/numpy/lib/_datasource.py:193\u001b[0m, in \u001b[0;36mopen\u001b[0;34m(path, mode, destpath, encoding, newline)\u001b[0m\n\u001b[1;32m    156\u001b[0m \u001b[38;5;250m\u001b[39m\u001b[38;5;124;03m\"\"\"\u001b[39;00m\n\u001b[1;32m    157\u001b[0m \u001b[38;5;124;03mOpen `path` with `mode` and return the file object.\u001b[39;00m\n\u001b[1;32m    158\u001b[0m \n\u001b[0;32m   (...)\u001b[0m\n\u001b[1;32m    189\u001b[0m \n\u001b[1;32m    190\u001b[0m \u001b[38;5;124;03m\"\"\"\u001b[39;00m\n\u001b[1;32m    192\u001b[0m ds \u001b[38;5;241m=\u001b[39m DataSource(destpath)\n\u001b[0;32m--> 193\u001b[0m \u001b[38;5;28;01mreturn\u001b[39;00m \u001b[43mds\u001b[49m\u001b[38;5;241;43m.\u001b[39;49m\u001b[43mopen\u001b[49m\u001b[43m(\u001b[49m\u001b[43mpath\u001b[49m\u001b[43m,\u001b[49m\u001b[43m \u001b[49m\u001b[43mmode\u001b[49m\u001b[43m,\u001b[49m\u001b[43m \u001b[49m\u001b[43mencoding\u001b[49m\u001b[38;5;241;43m=\u001b[39;49m\u001b[43mencoding\u001b[49m\u001b[43m,\u001b[49m\u001b[43m \u001b[49m\u001b[43mnewline\u001b[49m\u001b[38;5;241;43m=\u001b[39;49m\u001b[43mnewline\u001b[49m\u001b[43m)\u001b[49m\n",
      "File \u001b[0;32m/opt/anaconda3/envs/MyAnaEnv/lib/python3.9/site-packages/numpy/lib/_datasource.py:533\u001b[0m, in \u001b[0;36mDataSource.open\u001b[0;34m(self, path, mode, encoding, newline)\u001b[0m\n\u001b[1;32m    530\u001b[0m     \u001b[38;5;28;01mreturn\u001b[39;00m _file_openers[ext](found, mode\u001b[38;5;241m=\u001b[39mmode,\n\u001b[1;32m    531\u001b[0m                               encoding\u001b[38;5;241m=\u001b[39mencoding, newline\u001b[38;5;241m=\u001b[39mnewline)\n\u001b[1;32m    532\u001b[0m \u001b[38;5;28;01melse\u001b[39;00m:\n\u001b[0;32m--> 533\u001b[0m     \u001b[38;5;28;01mraise\u001b[39;00m \u001b[38;5;167;01mFileNotFoundError\u001b[39;00m(\u001b[38;5;124mf\u001b[39m\u001b[38;5;124m\"\u001b[39m\u001b[38;5;132;01m{\u001b[39;00mpath\u001b[38;5;132;01m}\u001b[39;00m\u001b[38;5;124m not found.\u001b[39m\u001b[38;5;124m\"\u001b[39m)\n",
      "\u001b[0;31mFileNotFoundError\u001b[0m: ../../data/A0101f000 not found."
     ]
    }
   ],
   "source": [
    "# defining data directory\n",
    "\n",
    "# f is used for training\n",
    "# c is used for testing\n",
    "\n",
    "data_dir = \"../../data/\"\n",
    "allele = \"A0101\"\n",
    "training_file = f'{data_dir}{allele}/f000\" #just for one fold.\n",
    "testing_file = data_dir + allele + \"f000\" #just for one fold.\n",
    "test_data = f'{DATAPATH}/{ALLELE}/test_BA'\n",
    "training = np.loadtxt(training_file, dtype=str)\n",
    "testing = np.loadtxt(testing_file, dtype=str)\n"
   ]
  },
  {
   "cell_type": "markdown",
   "id": "891f2c20",
   "metadata": {},
   "source": [
    "## Define options for run"
   ]
  },
  {
   "cell_type": "code",
   "execution_count": null,
   "id": "342c37a1",
   "metadata": {},
   "outputs": [],
   "source": [
    "sequence_weighting = True\n",
    "# sequence_weighting = False\n",
    "# define weight on pseudo count\n",
    "beta = 50\n",
    "# beta = 0\n"
   ]
  },
  {
   "cell_type": "markdown",
   "id": "5897742d",
   "metadata": {},
   "source": [
    "## Data Imports"
   ]
  },
  {
   "cell_type": "markdown",
   "id": "8d8cde49",
   "metadata": {},
   "source": [
    "### Load Alphabet"
   ]
  },
  {
   "cell_type": "code",
   "execution_count": null,
   "id": "42a0651d",
   "metadata": {},
   "outputs": [
    {
     "name": "stdout",
     "output_type": "stream",
     "text": [
      "['A' 'R' 'N' 'D' 'C' 'Q' 'E' 'G' 'H' 'I' 'L' 'K' 'M' 'F' 'P' 'S' 'T' 'W'\n",
      " 'Y' 'V']\n",
      "20\n"
     ]
    }
   ],
   "source": [
    "alphabet_file = data_dir + \"Matrices/alphabet\"\n",
    "\n",
    "alphabet = np.loadtxt(alphabet_file, dtype=str)\n",
    "\n",
    "print (alphabet)\n",
    "print (len(alphabet))"
   ]
  },
  {
   "cell_type": "markdown",
   "id": "7f3a9d1a",
   "metadata": {},
   "source": [
    "### Load Background Frequencies"
   ]
  },
  {
   "cell_type": "code",
   "execution_count": null,
   "id": "a1266a5f",
   "metadata": {},
   "outputs": [
    {
     "data": {
      "text/plain": [
       "{'A': 0.074,\n",
       " 'R': 0.052,\n",
       " 'N': 0.045,\n",
       " 'D': 0.054,\n",
       " 'C': 0.025,\n",
       " 'Q': 0.034,\n",
       " 'E': 0.054,\n",
       " 'G': 0.074,\n",
       " 'H': 0.026,\n",
       " 'I': 0.068,\n",
       " 'L': 0.099,\n",
       " 'K': 0.058,\n",
       " 'M': 0.025,\n",
       " 'F': 0.047,\n",
       " 'P': 0.039,\n",
       " 'S': 0.057,\n",
       " 'T': 0.051,\n",
       " 'W': 0.013,\n",
       " 'Y': 0.032,\n",
       " 'V': 0.073}"
      ]
     },
     "metadata": {},
     "output_type": "display_data"
    }
   ],
   "source": [
    "bg_file = data_dir + \"Matrices/bg.freq.fmt\"\n",
    "_bg = np.loadtxt(bg_file, dtype=float)\n",
    "\n",
    "bg = {} #creates a dictionary for the background frequencies\n",
    "for i in range(0, len(alphabet)):\n",
    "    bg[alphabet[i]] = _bg[i]\n",
    "\n",
    "bg"
   ]
  },
  {
   "cell_type": "markdown",
   "id": "b2669fb9",
   "metadata": {},
   "source": [
    "### Load Blosum62 Matrix\n"
   ]
  },
  {
   "cell_type": "code",
   "execution_count": null,
   "id": "8b6f3f84",
   "metadata": {},
   "outputs": [
    {
     "data": {
      "text/plain": [
       "{'A': {'A': 0.2901,\n",
       "  'R': 0.0446,\n",
       "  'N': 0.0427,\n",
       "  'D': 0.041,\n",
       "  'C': 0.065,\n",
       "  'Q': 0.0559,\n",
       "  'E': 0.0552,\n",
       "  'G': 0.0783,\n",
       "  'H': 0.042,\n",
       "  'I': 0.0471,\n",
       "  'L': 0.0445,\n",
       "  'K': 0.057,\n",
       "  'M': 0.0522,\n",
       "  'F': 0.0338,\n",
       "  'P': 0.0568,\n",
       "  'S': 0.1099,\n",
       "  'T': 0.073,\n",
       "  'W': 0.0303,\n",
       "  'Y': 0.0405,\n",
       "  'V': 0.07},\n",
       " 'R': {'A': 0.031,\n",
       "  'R': 0.345,\n",
       "  'N': 0.0449,\n",
       "  'D': 0.0299,\n",
       "  'C': 0.0163,\n",
       "  'Q': 0.0735,\n",
       "  'E': 0.0497,\n",
       "  'G': 0.0229,\n",
       "  'H': 0.0458,\n",
       "  'I': 0.0177,\n",
       "  'L': 0.0243,\n",
       "  'K': 0.1071,\n",
       "  'M': 0.0321,\n",
       "  'F': 0.019,\n",
       "  'P': 0.0258,\n",
       "  'S': 0.0401,\n",
       "  'T': 0.0355,\n",
       "  'W': 0.0227,\n",
       "  'Y': 0.028,\n",
       "  'V': 0.0219},\n",
       " 'N': {'A': 0.0256,\n",
       "  'R': 0.0388,\n",
       "  'N': 0.3169,\n",
       "  'D': 0.069,\n",
       "  'C': 0.0163,\n",
       "  'Q': 0.0441,\n",
       "  'E': 0.0405,\n",
       "  'G': 0.0391,\n",
       "  'H': 0.0534,\n",
       "  'I': 0.0147,\n",
       "  'L': 0.0142,\n",
       "  'K': 0.0415,\n",
       "  'M': 0.0201,\n",
       "  'F': 0.0169,\n",
       "  'P': 0.0233,\n",
       "  'S': 0.0541,\n",
       "  'T': 0.0434,\n",
       "  'W': 0.0152,\n",
       "  'Y': 0.0218,\n",
       "  'V': 0.0165},\n",
       " 'D': {'A': 0.0297,\n",
       "  'R': 0.031,\n",
       "  'N': 0.0831,\n",
       "  'D': 0.3974,\n",
       "  'C': 0.0163,\n",
       "  'Q': 0.0471,\n",
       "  'E': 0.0902,\n",
       "  'G': 0.0337,\n",
       "  'H': 0.0382,\n",
       "  'I': 0.0177,\n",
       "  'L': 0.0152,\n",
       "  'K': 0.0415,\n",
       "  'M': 0.0201,\n",
       "  'F': 0.0169,\n",
       "  'P': 0.031,\n",
       "  'S': 0.0489,\n",
       "  'T': 0.0375,\n",
       "  'W': 0.0152,\n",
       "  'Y': 0.0187,\n",
       "  'V': 0.0178},\n",
       " 'C': {'A': 0.0216,\n",
       "  'R': 0.0078,\n",
       "  'N': 0.009,\n",
       "  'D': 0.0075,\n",
       "  'C': 0.4837,\n",
       "  'Q': 0.0088,\n",
       "  'E': 0.0074,\n",
       "  'G': 0.0108,\n",
       "  'H': 0.0076,\n",
       "  'I': 0.0162,\n",
       "  'L': 0.0162,\n",
       "  'K': 0.0086,\n",
       "  'M': 0.0161,\n",
       "  'F': 0.0106,\n",
       "  'P': 0.0103,\n",
       "  'S': 0.0175,\n",
       "  'T': 0.0178,\n",
       "  'W': 0.0076,\n",
       "  'Y': 0.0093,\n",
       "  'V': 0.0192},\n",
       " 'Q': {'A': 0.0256,\n",
       "  'R': 0.0484,\n",
       "  'N': 0.0337,\n",
       "  'D': 0.0299,\n",
       "  'C': 0.0122,\n",
       "  'Q': 0.2147,\n",
       "  'E': 0.0645,\n",
       "  'G': 0.0189,\n",
       "  'H': 0.0382,\n",
       "  'I': 0.0133,\n",
       "  'L': 0.0162,\n",
       "  'K': 0.0535,\n",
       "  'M': 0.0281,\n",
       "  'F': 0.0106,\n",
       "  'P': 0.0207,\n",
       "  'S': 0.0332,\n",
       "  'T': 0.0276,\n",
       "  'W': 0.0152,\n",
       "  'Y': 0.0218,\n",
       "  'V': 0.0165},\n",
       " 'E': {'A': 0.0405,\n",
       "  'R': 0.0523,\n",
       "  'N': 0.0494,\n",
       "  'D': 0.0914,\n",
       "  'C': 0.0163,\n",
       "  'Q': 0.1029,\n",
       "  'E': 0.2965,\n",
       "  'G': 0.0256,\n",
       "  'H': 0.0534,\n",
       "  'I': 0.0177,\n",
       "  'L': 0.0202,\n",
       "  'K': 0.0708,\n",
       "  'M': 0.0281,\n",
       "  'F': 0.019,\n",
       "  'P': 0.0362,\n",
       "  'S': 0.0524,\n",
       "  'T': 0.0394,\n",
       "  'W': 0.0227,\n",
       "  'Y': 0.028,\n",
       "  'V': 0.0233},\n",
       " 'G': {'A': 0.0783,\n",
       "  'R': 0.0329,\n",
       "  'N': 0.0652,\n",
       "  'D': 0.0466,\n",
       "  'C': 0.0325,\n",
       "  'Q': 0.0412,\n",
       "  'E': 0.035,\n",
       "  'G': 0.5101,\n",
       "  'H': 0.0382,\n",
       "  'I': 0.0206,\n",
       "  'L': 0.0213,\n",
       "  'K': 0.0432,\n",
       "  'M': 0.0281,\n",
       "  'F': 0.0254,\n",
       "  'P': 0.0362,\n",
       "  'S': 0.0663,\n",
       "  'T': 0.0434,\n",
       "  'W': 0.0303,\n",
       "  'Y': 0.0249,\n",
       "  'V': 0.0247},\n",
       " 'H': {'A': 0.0148,\n",
       "  'R': 0.0233,\n",
       "  'N': 0.0315,\n",
       "  'D': 0.0187,\n",
       "  'C': 0.0081,\n",
       "  'Q': 0.0294,\n",
       "  'E': 0.0258,\n",
       "  'G': 0.0135,\n",
       "  'H': 0.355,\n",
       "  'I': 0.0088,\n",
       "  'L': 0.0101,\n",
       "  'K': 0.0207,\n",
       "  'M': 0.0161,\n",
       "  'F': 0.0169,\n",
       "  'P': 0.0129,\n",
       "  'S': 0.0192,\n",
       "  'T': 0.0138,\n",
       "  'W': 0.0152,\n",
       "  'Y': 0.0467,\n",
       "  'V': 0.0082},\n",
       " 'I': {'A': 0.0432,\n",
       "  'R': 0.0233,\n",
       "  'N': 0.0225,\n",
       "  'D': 0.0224,\n",
       "  'C': 0.0447,\n",
       "  'Q': 0.0265,\n",
       "  'E': 0.0221,\n",
       "  'G': 0.0189,\n",
       "  'H': 0.0229,\n",
       "  'I': 0.271,\n",
       "  'L': 0.1154,\n",
       "  'K': 0.0276,\n",
       "  'M': 0.1004,\n",
       "  'F': 0.0634,\n",
       "  'P': 0.0258,\n",
       "  'S': 0.0297,\n",
       "  'T': 0.0533,\n",
       "  'W': 0.0303,\n",
       "  'Y': 0.0436,\n",
       "  'V': 0.1646},\n",
       " 'L': {'A': 0.0594,\n",
       "  'R': 0.0465,\n",
       "  'N': 0.0315,\n",
       "  'D': 0.028,\n",
       "  'C': 0.065,\n",
       "  'Q': 0.0471,\n",
       "  'E': 0.0368,\n",
       "  'G': 0.0283,\n",
       "  'H': 0.0382,\n",
       "  'I': 0.1679,\n",
       "  'L': 0.3755,\n",
       "  'K': 0.0432,\n",
       "  'M': 0.1968,\n",
       "  'F': 0.1142,\n",
       "  'P': 0.0362,\n",
       "  'S': 0.0419,\n",
       "  'T': 0.0651,\n",
       "  'W': 0.053,\n",
       "  'Y': 0.0685,\n",
       "  'V': 0.1303},\n",
       " 'K': {'A': 0.0445,\n",
       "  'R': 0.1202,\n",
       "  'N': 0.0539,\n",
       "  'D': 0.0448,\n",
       "  'C': 0.0203,\n",
       "  'Q': 0.0912,\n",
       "  'E': 0.0755,\n",
       "  'G': 0.0337,\n",
       "  'H': 0.0458,\n",
       "  'I': 0.0236,\n",
       "  'L': 0.0253,\n",
       "  'K': 0.2781,\n",
       "  'M': 0.0361,\n",
       "  'F': 0.019,\n",
       "  'P': 0.0413,\n",
       "  'S': 0.0541,\n",
       "  'T': 0.0454,\n",
       "  'W': 0.0227,\n",
       "  'Y': 0.0312,\n",
       "  'V': 0.0261},\n",
       " 'M': {'A': 0.0175,\n",
       "  'R': 0.0155,\n",
       "  'N': 0.0112,\n",
       "  'D': 0.0093,\n",
       "  'C': 0.0163,\n",
       "  'Q': 0.0206,\n",
       "  'E': 0.0129,\n",
       "  'G': 0.0094,\n",
       "  'H': 0.0153,\n",
       "  'I': 0.0368,\n",
       "  'L': 0.0496,\n",
       "  'K': 0.0155,\n",
       "  'M': 0.1606,\n",
       "  'F': 0.0254,\n",
       "  'P': 0.0103,\n",
       "  'S': 0.0157,\n",
       "  'T': 0.0197,\n",
       "  'W': 0.0152,\n",
       "  'Y': 0.0187,\n",
       "  'V': 0.0316},\n",
       " 'F': {'A': 0.0216,\n",
       "  'R': 0.0174,\n",
       "  'N': 0.018,\n",
       "  'D': 0.0149,\n",
       "  'C': 0.0203,\n",
       "  'Q': 0.0147,\n",
       "  'E': 0.0166,\n",
       "  'G': 0.0162,\n",
       "  'H': 0.0305,\n",
       "  'I': 0.0442,\n",
       "  'L': 0.0547,\n",
       "  'K': 0.0155,\n",
       "  'M': 0.0482,\n",
       "  'F': 0.3869,\n",
       "  'P': 0.0129,\n",
       "  'S': 0.0209,\n",
       "  'T': 0.0237,\n",
       "  'W': 0.0606,\n",
       "  'Y': 0.1308,\n",
       "  'V': 0.0357},\n",
       " 'P': {'A': 0.0297,\n",
       "  'R': 0.0194,\n",
       "  'N': 0.0202,\n",
       "  'D': 0.0224,\n",
       "  'C': 0.0163,\n",
       "  'Q': 0.0235,\n",
       "  'E': 0.0258,\n",
       "  'G': 0.0189,\n",
       "  'H': 0.0191,\n",
       "  'I': 0.0147,\n",
       "  'L': 0.0142,\n",
       "  'K': 0.0276,\n",
       "  'M': 0.0161,\n",
       "  'F': 0.0106,\n",
       "  'P': 0.4935,\n",
       "  'S': 0.0297,\n",
       "  'T': 0.0276,\n",
       "  'W': 0.0076,\n",
       "  'Y': 0.0156,\n",
       "  'V': 0.0165},\n",
       " 'S': {'A': 0.085,\n",
       "  'R': 0.0446,\n",
       "  'N': 0.0697,\n",
       "  'D': 0.0522,\n",
       "  'C': 0.0407,\n",
       "  'Q': 0.0559,\n",
       "  'E': 0.0552,\n",
       "  'G': 0.0513,\n",
       "  'H': 0.042,\n",
       "  'I': 0.025,\n",
       "  'L': 0.0243,\n",
       "  'K': 0.0535,\n",
       "  'M': 0.0361,\n",
       "  'F': 0.0254,\n",
       "  'P': 0.0439,\n",
       "  'S': 0.2199,\n",
       "  'T': 0.0927,\n",
       "  'W': 0.0227,\n",
       "  'Y': 0.0312,\n",
       "  'V': 0.0329},\n",
       " 'T': {'A': 0.0499,\n",
       "  'R': 0.0349,\n",
       "  'N': 0.0494,\n",
       "  'D': 0.0354,\n",
       "  'C': 0.0366,\n",
       "  'Q': 0.0412,\n",
       "  'E': 0.0368,\n",
       "  'G': 0.0297,\n",
       "  'H': 0.0267,\n",
       "  'I': 0.0398,\n",
       "  'L': 0.0334,\n",
       "  'K': 0.0397,\n",
       "  'M': 0.0402,\n",
       "  'F': 0.0254,\n",
       "  'P': 0.0362,\n",
       "  'S': 0.082,\n",
       "  'T': 0.2465,\n",
       "  'W': 0.0227,\n",
       "  'Y': 0.028,\n",
       "  'V': 0.0494},\n",
       " 'W': {'A': 0.0054,\n",
       "  'R': 0.0058,\n",
       "  'N': 0.0045,\n",
       "  'D': 0.0037,\n",
       "  'C': 0.0041,\n",
       "  'Q': 0.0059,\n",
       "  'E': 0.0055,\n",
       "  'G': 0.0054,\n",
       "  'H': 0.0076,\n",
       "  'I': 0.0059,\n",
       "  'L': 0.0071,\n",
       "  'K': 0.0052,\n",
       "  'M': 0.008,\n",
       "  'F': 0.0169,\n",
       "  'P': 0.0026,\n",
       "  'S': 0.0052,\n",
       "  'T': 0.0059,\n",
       "  'W': 0.4924,\n",
       "  'Y': 0.028,\n",
       "  'V': 0.0055},\n",
       " 'Y': {'A': 0.0175,\n",
       "  'R': 0.0174,\n",
       "  'N': 0.0157,\n",
       "  'D': 0.0112,\n",
       "  'C': 0.0122,\n",
       "  'Q': 0.0206,\n",
       "  'E': 0.0166,\n",
       "  'G': 0.0108,\n",
       "  'H': 0.0573,\n",
       "  'I': 0.0206,\n",
       "  'L': 0.0223,\n",
       "  'K': 0.0173,\n",
       "  'M': 0.0241,\n",
       "  'F': 0.0888,\n",
       "  'P': 0.0129,\n",
       "  'S': 0.0175,\n",
       "  'T': 0.0178,\n",
       "  'W': 0.0682,\n",
       "  'Y': 0.3178,\n",
       "  'V': 0.0206},\n",
       " 'V': {'A': 0.0688,\n",
       "  'R': 0.031,\n",
       "  'N': 0.027,\n",
       "  'D': 0.0243,\n",
       "  'C': 0.0569,\n",
       "  'Q': 0.0353,\n",
       "  'E': 0.0313,\n",
       "  'G': 0.0243,\n",
       "  'H': 0.0229,\n",
       "  'I': 0.1767,\n",
       "  'L': 0.0962,\n",
       "  'K': 0.0328,\n",
       "  'M': 0.0924,\n",
       "  'F': 0.055,\n",
       "  'P': 0.031,\n",
       "  'S': 0.0419,\n",
       "  'T': 0.071,\n",
       "  'W': 0.0303,\n",
       "  'Y': 0.0467,\n",
       "  'V': 0.2689}}"
      ]
     },
     "metadata": {},
     "output_type": "display_data"
    }
   ],
   "source": [
    "blosum62_file = data_dir + \"Matrices/blosum62.freq_rownorm\"\n",
    "_blosum62 = np.loadtxt(blosum62_file, dtype=float).T\n",
    "\n",
    "blosum62 = {} #creates a dictionary for the blosum62 matrix\n",
    "for i, letter_1 in enumerate(alphabet):\n",
    "    \n",
    "    blosum62[letter_1] = {}\n",
    "\n",
    "    for j, letter_2 in enumerate(alphabet):\n",
    "        \n",
    "        blosum62[letter_1][letter_2] = _blosum62[i, j]\n",
    "\n",
    "blosum62"
   ]
  },
  {
   "cell_type": "markdown",
   "id": "178ae580",
   "metadata": {},
   "source": [
    "### Load Peptides"
   ]
  },
  {
   "cell_type": "code",
   "execution_count": null,
   "id": "6d4840ca",
   "metadata": {},
   "outputs": [],
   "source": [
    "# peptides_file = data_dir + \"PSSM/A0201.single_lig\"\n",
    "peptides_file = data_dir + \"PSSM/A0201.small_lig\"\n",
    "#peptides_file = data_dir + \"PSSM/A0201.large_lig\"\n",
    "\n",
    "peptides = np.loadtxt(peptides_file, dtype=str).tolist() # load peptides from file\n",
    "\n",
    "#saving the length of the peptides.\n",
    "if len(peptides[0]) == 1:\n",
    "    peptide_length = len(peptides)\n",
    "    peptides = [peptides]\n",
    "else:\n",
    "    peptide_length = len(peptides[0])\n",
    "\n",
    "# check if all peptides are of the same length\n",
    "for i in range(0, len(peptides)):\n",
    "    if len(peptides[i]) != peptide_length:\n",
    "        print(\"Error, peptides differ in length!\")\n",
    "        \n",
    "# print(peptides)"
   ]
  },
  {
   "cell_type": "markdown",
   "id": "53ddb820",
   "metadata": {},
   "source": [
    "## Initialize Matrix"
   ]
  },
  {
   "cell_type": "code",
   "execution_count": null,
   "id": "7a16343e",
   "metadata": {},
   "outputs": [],
   "source": [
    "#Function for initializing matrix.\n",
    "def initialize_matrix(peptide_length, alphabet):\n",
    "\n",
    "    init_matrix = [0]*peptide_length # makes a list of zeros with length equal to peptide_length\n",
    "\n",
    "    for i in range(0, peptide_length):\n",
    "\n",
    "        row = {}\n",
    "\n",
    "        for letter in alphabet: \n",
    "            row[letter] = 0.0 #adds values of 0 for each possible substitution.\n",
    "\n",
    "        #fancy way:  row = dict( zip( alphabet, [0.0]*len(alphabet) ) )\n",
    "\n",
    "        init_matrix[i] = row\n",
    "        \n",
    "    return init_matrix"
   ]
  },
  {
   "cell_type": "markdown",
   "id": "d85b0111",
   "metadata": {},
   "source": [
    "## Amino Acid Count Matrix (c)"
   ]
  },
  {
   "cell_type": "code",
   "execution_count": null,
   "id": "e1ae06a5",
   "metadata": {},
   "outputs": [
    {
     "name": "stdout",
     "output_type": "stream",
     "text": [
      "{'A': 6.0,\n",
      " 'C': 0.0,\n",
      " 'D': 0.0,\n",
      " 'E': 0.0,\n",
      " 'F': 0.0,\n",
      " 'G': 2.0,\n",
      " 'H': 0.0,\n",
      " 'I': 0.0,\n",
      " 'K': 1.0,\n",
      " 'L': 0.0,\n",
      " 'M': 0.0,\n",
      " 'N': 0.0,\n",
      " 'P': 0.0,\n",
      " 'Q': 0.0,\n",
      " 'R': 0.0,\n",
      " 'S': 0.0,\n",
      " 'T': 1.0,\n",
      " 'V': 0.0,\n",
      " 'W': 0.0,\n",
      " 'Y': 0.0}\n"
     ]
    }
   ],
   "source": [
    "c_matrix = initialize_matrix(peptide_length, alphabet)\n",
    "\n",
    "for position in range(0, peptide_length):\n",
    "        \n",
    "    for peptide in peptides:\n",
    "        \n",
    "        c_matrix[position][peptide[position]] += 1\n",
    "\n",
    "        \n",
    "pprint(c_matrix[0]) # looking at the counts for position 0.\n"
   ]
  },
  {
   "cell_type": "code",
   "execution_count": null,
   "id": "74e55df3",
   "metadata": {},
   "outputs": [],
   "source": []
  },
  {
   "cell_type": "markdown",
   "id": "dee560c6",
   "metadata": {},
   "source": [
    "## Sequence Weighting"
   ]
  },
  {
   "cell_type": "code",
   "execution_count": null,
   "id": "ac207fa6",
   "metadata": {},
   "outputs": [
    {
     "name": "stdout",
     "output_type": "stream",
     "text": [
      "'W:'\n",
      "{'ALAKAAAAM': 0.414047619047619,\n",
      " 'ALAKAAAAN': 0.49738095238095237,\n",
      " 'ALAKAAAAR': 0.49738095238095237,\n",
      " 'ALAKAAAAT': 0.414047619047619,\n",
      " 'ALAKAAAAV': 0.3862698412698412,\n",
      " 'AVVPFIVSV': 1.513888888888889,\n",
      " 'GILGFVFTM': 1.4583333333333333,\n",
      " 'GMNERPILT': 1.3583333333333334,\n",
      " 'KLNEPVLLL': 1.185714285714286,\n",
      " 'TLNAWVKVV': 1.2746031746031745}\n",
      "'Nseq:'\n",
      "4.777777777777778\n"
     ]
    }
   ],
   "source": [
    "# w = 1 / r * s\n",
    "# where \n",
    "# r = number of different amino acids in column\n",
    "# s = number of occurrence of amino acid in column\n",
    "\n",
    "weights = {}\n",
    "\n",
    "for peptide in peptides:\n",
    "\n",
    "    # apply sequence weighting\n",
    "    if sequence_weighting:\n",
    "    \n",
    "        w = 0.0\n",
    "        neff = 0.0\n",
    "        \n",
    "        for position in range(0, peptide_length):\n",
    "\n",
    "            r = 0\n",
    "\n",
    "            for letter in alphabet:        \n",
    "\n",
    "                if c_matrix[position][letter] != 0: #if the count of the amino acid is not zero\n",
    "                    \n",
    "                    r += 1 #counting how many different amino acids there are in the column\n",
    "\n",
    "            s = c_matrix[position][peptide[position]] #number of occurrences of the amino acid in the column\n",
    "\n",
    "            w += 1.0/(r * s) #calculating the weight for the peptide\n",
    "\n",
    "            neff += r #adding the number of different amino acids in the column to neff\n",
    "                \n",
    "        neff = neff / peptide_length # average number of different amino acids per position\n",
    "  \n",
    "    # do not apply sequence weighting\n",
    "    else:\n",
    "        \n",
    "        w = 1  \n",
    "        \n",
    "        neff = len(peptides)  \n",
    "      \n",
    "\n",
    "    weights[peptide] = w\n",
    "\n",
    "pprint( \"W:\")\n",
    "pprint( weights )\n",
    "pprint( \"Nseq:\")\n",
    "pprint( neff )"
   ]
  },
  {
   "cell_type": "markdown",
   "id": "c543783b",
   "metadata": {},
   "source": [
    "## Observed Frequencies Matrix (f)"
   ]
  },
  {
   "cell_type": "code",
   "execution_count": null,
   "id": "f2973a12",
   "metadata": {},
   "outputs": [
    {
     "name": "stdout",
     "output_type": "stream",
     "text": [
      "{'A': 0.41366843033509704,\n",
      " 'C': 0.0,\n",
      " 'D': 0.0,\n",
      " 'E': 0.0,\n",
      " 'F': 0.0,\n",
      " 'G': 0.31296296296296294,\n",
      " 'H': 0.0,\n",
      " 'I': 0.0,\n",
      " 'K': 0.13174603174603178,\n",
      " 'L': 0.0,\n",
      " 'M': 0.0,\n",
      " 'N': 0.0,\n",
      " 'P': 0.0,\n",
      " 'Q': 0.0,\n",
      " 'R': 0.0,\n",
      " 'S': 0.0,\n",
      " 'T': 0.14162257495590827,\n",
      " 'V': 0.0,\n",
      " 'W': 0.0,\n",
      " 'Y': 0.0}\n"
     ]
    }
   ],
   "source": [
    "f_matrix = initialize_matrix(peptide_length, alphabet) #initialize zero matrix for frequencies\n",
    "\n",
    "for position in range(0, peptide_length):\n",
    "  \n",
    "    n = 0;\n",
    "  \n",
    "    for peptide in peptides:\n",
    "    \n",
    "        f_matrix[position][peptide[position]] += weights[peptide] \n",
    "    \n",
    "        n += weights[peptide] #saving the sum of weights (corresponds to n) to normalize the frequencies later\n",
    "        \n",
    "    for letter in alphabet: \n",
    "        \n",
    "        f_matrix[position][letter] = f_matrix[position][letter]/n\n",
    "      \n",
    "pprint( f_matrix[0] )"
   ]
  },
  {
   "cell_type": "markdown",
   "id": "c3b5854a",
   "metadata": {},
   "source": [
    "## Pseudo Frequencies Matrix (g)\n",
    "\n",
    "Remember g(b) = sum f(a)* q(b|a), and blosum[a,b] = q(a|b)"
   ]
  },
  {
   "cell_type": "code",
   "execution_count": null,
   "id": "7535ad26",
   "metadata": {},
   "outputs": [
    {
     "name": "stdout",
     "output_type": "stream",
     "text": [
      "{'A': 0.16235818342151676,\n",
      " 'C': 0.01596913580246914,\n",
      " 'D': 0.03361111111111111,\n",
      " 'E': 0.03967297178130512,\n",
      " 'F': 0.019403756613756616,\n",
      " 'G': 0.20387049382716046,\n",
      " 'H': 0.015028827160493828,\n",
      " 'I': 0.03497014991181658,\n",
      " 'K': 0.07202333333333333,\n",
      " 'L': 0.04833981481481482,\n",
      " 'M': 0.015013077601410936,\n",
      " 'N': 0.034440643738977074,\n",
      " 'P': 0.025745925925925926,\n",
      " 'Q': 0.02746210758377425,\n",
      " 'R': 0.03912817460317461,\n",
      " 'S': 0.07139364197530865,\n",
      " 'T': 0.07007733686067019,\n",
      " 'V': 0.050441860670194,\n",
      " 'W': 0.0054444620811287476,\n",
      " 'Y': 0.015419285714285715}\n"
     ]
    }
   ],
   "source": [
    "g_matrix = initialize_matrix(peptide_length, alphabet)\n",
    "\n",
    "for position in range(0, peptide_length):\n",
    "\n",
    "    for letter_1 in alphabet:\n",
    "        for letter_2 in alphabet:\n",
    "\n",
    "          g_matrix[position][letter_1] += f_matrix[position][letter_2] * blosum62[letter_1][letter_2]\n",
    "\n",
    "pprint(g_matrix[0]) #just printing the first row of the g_matrix"
   ]
  },
  {
   "cell_type": "markdown",
   "id": "1ac0a448",
   "metadata": {},
   "source": [
    "## Combined Frequencies Matrix (p)"
   ]
  },
  {
   "cell_type": "code",
   "execution_count": null,
   "id": "5f5eb6c0",
   "metadata": {},
   "outputs": [
    {
     "name": "stdout",
     "output_type": "stream",
     "text": [
      "{'A': 0.1800122090311484,\n",
      " 'C': 0.014847337006427918,\n",
      " 'D': 0.03125,\n",
      " 'E': 0.0368860274826184,\n",
      " 'F': 0.01804068280204644,\n",
      " 'G': 0.2115340143862871,\n",
      " 'H': 0.013973083103764921,\n",
      " 'I': 0.03251356913288732,\n",
      " 'K': 0.0762187295028204,\n",
      " 'L': 0.04494404269972452,\n",
      " 'M': 0.013958439918667192,\n",
      " 'N': 0.03202125967466877,\n",
      " 'P': 0.02393732782369146,\n",
      " 'Q': 0.02553295126590581,\n",
      " 'R': 0.03637950118063755,\n",
      " 'S': 0.06637838613406796,\n",
      " 'T': 0.0751032420161208,\n",
      " 'V': 0.04689842417683327,\n",
      " 'W': 0.005061999868818051,\n",
      " 'Y': 0.014336112750885479}\n"
     ]
    }
   ],
   "source": [
    "p_matrix = initialize_matrix(peptide_length, alphabet)\n",
    "\n",
    "alpha = neff - 1 # alpha is the number of different amino acids minus one\n",
    "\n",
    "for position in range(0, peptide_length):\n",
    "\n",
    "    for a in alphabet:\n",
    "        p_matrix[position][a] = (alpha * f_matrix[position][a] + beta * g_matrix[position][a]) / (alpha + beta)\n",
    "\n",
    "pprint(p_matrix[0]) #just printing the first position of the p_matrix"
   ]
  },
  {
   "cell_type": "markdown",
   "id": "345fb437",
   "metadata": {},
   "source": [
    "## Log Odds Weight Matrix (w)"
   ]
  },
  {
   "cell_type": "code",
   "execution_count": null,
   "id": "fdc736df",
   "metadata": {},
   "outputs": [
    {
     "name": "stdout",
     "output_type": "stream",
     "text": [
      "{'A': 2.5649951648610188,\n",
      " 'C': -1.5034478000643317,\n",
      " 'D': -1.578206435002763,\n",
      " 'E': -1.0997699678355286,\n",
      " 'F': -2.7628136283579807,\n",
      " 'G': 3.0305849791504804,\n",
      " 'H': -1.7917224852185845,\n",
      " 'I': -2.1289856235063973,\n",
      " 'K': 0.7881853193816127,\n",
      " 'L': -2.278597249923568,\n",
      " 'M': -1.6815807776501963,\n",
      " 'N': -0.9817898774541316,\n",
      " 'P': -1.4084240278213043,\n",
      " 'Q': -0.8263488856568618,\n",
      " 'R': -1.0307717234288374,\n",
      " 'S': 0.4395032682836657,\n",
      " 'T': 1.1167558789573315,\n",
      " 'V': -1.2767140322038806,\n",
      " 'W': -2.72146449616,\n",
      " 'Y': -2.3168360320583425}\n"
     ]
    }
   ],
   "source": [
    "w_matrix = initialize_matrix(peptide_length, alphabet)\n",
    "\n",
    "for position in range(0, peptide_length):\n",
    "    \n",
    "    for letter in alphabet:\n",
    "        if p_matrix[position][letter] > 0: #check if the probability is greater than zero because log(0) is not handled.\n",
    "            w_matrix[position][letter] = 2 * math.log(p_matrix[position][letter]/bg[letter])/math.log(2)\n",
    "        else:\n",
    "            w_matrix[position][letter] = -999.9\n",
    "\n",
    "pprint(w_matrix[0])"
   ]
  },
  {
   "cell_type": "markdown",
   "id": "e29fc07e",
   "metadata": {},
   "source": [
    "### Write Matrix to PSI-BLAST format"
   ]
  },
  {
   "cell_type": "code",
   "execution_count": null,
   "id": "ef4b5ecc",
   "metadata": {},
   "outputs": [],
   "source": [
    "def to_psi_blast(matrix):\n",
    "\n",
    "    header = [\"\", \"A\", \"R\", \"N\", \"D\", \"C\", \"Q\", \"E\", \"G\", \"H\", \"I\", \"L\", \"K\", \"M\", \"F\", \"P\", \"S\", \"T\", \"W\", \"Y\", \"V\"]\n",
    "\n",
    "    print ('{:>4} {:>8} {:>8} {:>8} {:>8} {:>8} {:>8} {:>8} {:>8} {:>8} {:>8} {:>8} {:>8} {:>8} {:>8} {:>8} {:>8} {:>8} {:>8} {:>8} {:>8}'.format(*header)) \n",
    "\n",
    "    letter_order = [\"A\", \"R\", \"N\", \"D\", \"C\", \"Q\", \"E\", \"G\", \"H\", \"I\", \"L\", \"K\", \"M\", \"F\", \"P\", \"S\", \"T\", \"W\", \"Y\", \"V\"]\n",
    "\n",
    "    for i, row in enumerate(matrix):\n",
    "\n",
    "        scores = []\n",
    "\n",
    "        scores.append(str(i+1) + \" A\")\n",
    "\n",
    "        for letter in letter_order:\n",
    "\n",
    "            score = row[letter]\n",
    "\n",
    "            scores.append(round(score, 4))\n",
    "\n",
    "        print('{:>4} {:>8} {:>8} {:>8} {:>8} {:>8} {:>8} {:>8} {:>8} {:>8} {:>8} {:>8} {:>8} {:>8} {:>8} {:>8} {:>8} {:>8} {:>8} {:>8} {:>8}'.format(*scores)) "
   ]
  },
  {
   "cell_type": "markdown",
   "id": "7487312d",
   "metadata": {},
   "source": [
    "### convert w_matrix to PSI-BLAST format and print to file"
   ]
  },
  {
   "cell_type": "code",
   "execution_count": null,
   "id": "a27e54e5",
   "metadata": {},
   "outputs": [],
   "source": [
    "def to_psi_blast_file(matrix, file_name):\n",
    "    \n",
    "    with open(file_name, 'w') as file:\n",
    "\n",
    "        header = [\"\", \"A\", \"R\", \"N\", \"D\", \"C\", \"Q\", \"E\", \"G\", \"H\", \"I\", \"L\", \"K\", \"M\", \"F\", \"P\", \"S\", \"T\", \"W\", \"Y\", \"V\"]\n",
    "\n",
    "        file.write ('{:>4} {:>8} {:>8} {:>8} {:>8} {:>8} {:>8} {:>8} {:>8} {:>8} {:>8} {:>8} {:>8} {:>8} {:>8} {:>8} {:>8} {:>8} {:>8} {:>8} {:>8}\\n'.format(*header)) \n",
    "\n",
    "        letter_order = [\"A\", \"R\", \"N\", \"D\", \"C\", \"Q\", \"E\", \"G\", \"H\", \"I\", \"L\", \"K\", \"M\", \"F\", \"P\", \"S\", \"T\", \"W\", \"Y\", \"V\"]\n",
    "\n",
    "        for i, row in enumerate(matrix):\n",
    "\n",
    "            scores = []\n",
    "\n",
    "            scores.append(str(i+1) + \" A\")\n",
    "\n",
    "            for letter in letter_order:\n",
    "\n",
    "                score = row[letter]\n",
    "\n",
    "                scores.append(round(score, 4))\n",
    "\n",
    "            file.write('{:>4} {:>8} {:>8} {:>8} {:>8} {:>8} {:>8} {:>8} {:>8} {:>8} {:>8} {:>8} {:>8} {:>8} {:>8} {:>8} {:>8} {:>8} {:>8} {:>8} {:>8}\\n'.format(*scores)) "
   ]
  },
  {
   "cell_type": "markdown",
   "id": "425cbe87",
   "metadata": {},
   "source": [
    "### convert  w_matrix to PSI-BLAST format"
   ]
  },
  {
   "cell_type": "code",
   "execution_count": null,
   "id": "51820193",
   "metadata": {},
   "outputs": [
    {
     "name": "stdout",
     "output_type": "stream",
     "text": [
      "            A        R        N        D        C        Q        E        G        H        I        L        K        M        F        P        S        T        W        Y        V\n",
      " 1 A    2.565  -1.0308  -0.9818  -1.5782  -1.5034  -0.8263  -1.0998   3.0306  -1.7917   -2.129  -2.2786   0.7882  -1.6816  -2.7628  -1.4084   0.4395   1.1168  -2.7215  -2.3168  -1.2767\n",
      " 2 A  -1.3199  -2.4406  -3.2746  -3.5823  -1.3761  -2.1139  -2.8662  -3.6091  -2.8332   2.2383   3.1097   -2.439   2.8681  -0.1004  -2.9759  -2.2985  -1.0474  -2.0918    -1.29   1.8761\n",
      " 3 A    1.345  -1.4123   3.7556  -0.5496  -1.6889  -0.9861   -1.217  -1.0933  -0.9652  -0.2729    0.415  -1.1222   -0.527  -1.7245   -2.005  -0.0665  -0.4501  -2.7934  -1.8646   0.7514\n",
      " 4 A   0.7613  -0.1673  -0.8931  -0.3998  -2.6469   0.3674    2.508   1.4722  -1.1415  -2.9247  -2.8183    2.048  -2.0562  -3.2567   2.9612  -0.2371  -1.0504  -3.0207  -2.3323  -2.2665\n",
      " 5 A   1.1708   1.1726  -2.1539  -2.5758  -2.2303  -1.4703  -1.7115  -1.8697  -1.5078  -1.5495  -1.1456  -1.0076  -1.0739   3.5153   2.1952  -0.8934  -1.3896   5.3261    0.936  -1.4136\n",
      " 6 A   1.5612  -2.4392  -2.6294  -2.7112  -1.1675  -1.9153  -2.0514  -2.0655  -2.7908    1.964  -0.0398  -1.8823  -0.1194  -1.4837   2.5873  -0.8276  -0.5132  -2.9072  -1.7638   2.7161\n",
      " 7 A    1.372  -1.3187  -2.3061  -2.6017  -1.4895   -1.402  -1.6931  -2.0198  -2.1355   1.4282   0.9085   0.5458   0.1179   2.0344  -2.1688  -0.8881  -0.8609  -1.7776  -0.3349   1.4041\n",
      " 8 A   1.6818  -1.7898  -1.5012  -2.0633  -1.0902   -1.306  -1.5324  -1.5246  -2.1848   0.2648   1.4847   -1.413   0.1805  -1.2152  -1.7202   1.3272   1.5745  -2.4691  -1.6625   1.0098\n",
      " 9 A  -0.7858   -0.305  -0.2585   -2.302   -1.376  -1.2426   -1.896  -2.6898  -2.1403   1.1027   1.2367  -1.3841   2.8487  -0.9436  -2.3365  -0.7736   1.6824  -2.3137  -1.4876    2.239\n"
     ]
    }
   ],
   "source": [
    "to_psi_blast(w_matrix)"
   ]
  },
  {
   "cell_type": "markdown",
   "id": "5ab2eb53",
   "metadata": {},
   "source": [
    "### convert w_matrix to PSI-BLAST format and print to file"
   ]
  },
  {
   "cell_type": "code",
   "execution_count": null,
   "id": "05854425",
   "metadata": {},
   "outputs": [],
   "source": [
    "# Write out PSSM in Psi-Blast format to file\n",
    "file_name = \"w_matrix_test\"\n",
    "to_psi_blast_file(w_matrix, file_name=file_name)"
   ]
  },
  {
   "cell_type": "markdown",
   "id": "98104912",
   "metadata": {},
   "source": [
    "## Evaluation"
   ]
  },
  {
   "cell_type": "code",
   "execution_count": null,
   "id": "985d070f",
   "metadata": {},
   "outputs": [
    {
     "data": {
      "text/plain": [
       "(array(['ILYQVPFSV', 'VVMGTLVAL', 'ILDEAYVMA', ..., 'FARGVVHVI',\n",
       "        'LQRELTRLQ', 'AVAEEMTKS'], dtype='<U9'),\n",
       " array([0.8532, 0.5891, 0.4941, ..., 0.    , 0.    , 0.    ]))"
      ]
     },
     "metadata": {},
     "output_type": "display_data"
    }
   ],
   "source": [
    "# #evaluation_file = \"https://raw.githubusercontent.com/brunoalvarez89/data/master/algorithms_in_bioinformatics/part_2/A0201.eval\"\n",
    "# evaluation_file = data_dir + \"PSSM/A0201.eval\"\n",
    "# #evaluation_file = evaluation_upload.values()\n",
    "\n",
    "# evaluation = np.loadtxt(evaluation_file, dtype=str).reshape(-1,2)\n",
    "# evaluation_peptides = evaluation[:, 0]\n",
    "# evaluation_targets = evaluation[:, 1].astype(float)\n",
    "\n",
    "# evaluation_peptides, evaluation_targets"
   ]
  },
  {
   "cell_type": "code",
   "execution_count": null,
   "id": "a71eb445",
   "metadata": {},
   "outputs": [],
   "source": [
    "# def score_peptide(peptide, matrix):\n",
    "#     acum = 0\n",
    "#     for i in range(0, len(peptide)):\n",
    "#         acum += w_matrix[i][peptide[i]]\n",
    "#     return acum"
   ]
  },
  {
   "cell_type": "code",
   "execution_count": null,
   "id": "15c20782",
   "metadata": {},
   "outputs": [],
   "source": [
    "# evaluation_predictions = []\n",
    "# for evaluation_peptide in evaluation_peptides:\n",
    "#     evaluation_predictions.append(score_peptide(evaluation_peptide, w_matrix))"
   ]
  },
  {
   "cell_type": "code",
   "execution_count": null,
   "id": "2e0936d5",
   "metadata": {},
   "outputs": [
    {
     "name": "stdout",
     "output_type": "stream",
     "text": [
      "PCC:  0.47668860716507033\n"
     ]
    },
    {
     "data": {
      "image/png": "[encoded data removed]",
      "text/plain": [
       "<Figure size 640x480 with 1 Axes>"
      ]
     },
     "metadata": {},
     "output_type": "display_data"
    }
   ],
   "source": [
    "# from scipy.stats import pearsonr\n",
    "# import matplotlib.pyplot as plt\n",
    "\n",
    "# pcc = pearsonr(evaluation_targets, evaluation_predictions)\n",
    "# print(\"PCC: \", pcc[0])\n",
    "\n",
    "# plt.scatter(evaluation_targets, evaluation_predictions);"
   ]
  },
  {
   "cell_type": "code",
   "execution_count": null,
   "id": "73eacba2",
   "metadata": {},
   "outputs": [],
   "source": []
  }
 ],
 "metadata": {
  "kernelspec": {
   "display_name": "MyAnaEnv",
   "language": "python",
   "name": "python3"
  },
  "language_info": {
   "codemirror_mode": {
    "name": "ipython",
    "version": 3
   },
   "file_extension": ".py",
   "mimetype": "text/x-python",
   "name": "python",
   "nbconvert_exporter": "python",
   "pygments_lexer": "ipython3",
   "version": "3.9.18"
  }
 },
 "nbformat": 4,
 "nbformat_minor": 5
}

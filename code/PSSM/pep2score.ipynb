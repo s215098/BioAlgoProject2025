{
 "cells": [
  {
   "cell_type": "markdown",
   "id": "adc8ccba",
   "metadata": {},
   "source": [
    "# Creating PSSM from peptide sequences\n"
   ]
  },
  {
   "cell_type": "code",
   "execution_count": null,
   "id": "9c3e8842",
   "metadata": {
    "vscode": {
     "languageId": "plaintext"
    }
   },
   "outputs": [],
   "source": [
    "### ABOUT ###\n",
    "# This script creates a PSSM from out peptide sequences.\n",
    "\n",
    "# Chosing the data.\n",
    "\n"
   ]
  }
 ],
 "metadata": {
  "language_info": {
   "name": "python"
  }
 },
 "nbformat": 4,
 "nbformat_minor": 5
}

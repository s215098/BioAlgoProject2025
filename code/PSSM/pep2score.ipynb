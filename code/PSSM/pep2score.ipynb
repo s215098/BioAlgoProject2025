{
 "cells": [
  {
   "cell_type": "markdown",
   "id": "adc8ccba",
   "metadata": {},
   "source": [
    "# Creating PSSM from peptide sequences\n"
   ]
  },
  {
   "cell_type": "code",
   "execution_count": null,
   "id": "9c3e8842",
   "metadata": {},
   "outputs": [],
   "source": [
    "### ABOUT ###\n",
    "# This script creates a PSSM from out peptide sequences.\n",
    "\n"
   ]
  },
  {
   "cell_type": "code",
   "execution_count": 1,
   "id": "6619a665",
   "metadata": {},
   "outputs": [
    {
     "name": "stdout",
     "output_type": "stream",
     "text": [
      "Intel MKL WARNING: Support of Intel(R) Streaming SIMD Extensions 4.2 (Intel(R) SSE4.2) enabled only processors has been deprecated. Intel oneAPI Math Kernel Library 2025.0 will require Intel(R) Advanced Vector Extensions (Intel(R) AVX) instructions.\n",
      "Intel MKL WARNING: Support of Intel(R) Streaming SIMD Extensions 4.2 (Intel(R) SSE4.2) enabled only processors has been deprecated. Intel oneAPI Math Kernel Library 2025.0 will require Intel(R) Advanced Vector Extensions (Intel(R) AVX) instructions.\n"
     ]
    }
   ],
   "source": [
    "### Importing libraries ###\n",
    "import numpy as np\n",
    "import random\n",
    "import copy\n",
    "from scipy.stats import pearsonr\n",
    "import matplotlib.pyplot as plt\n",
    "\n",
    "%matplotlib inline"
   ]
  },
  {
   "cell_type": "code",
   "execution_count": null,
   "id": "67f4ebe7",
   "metadata": {},
   "outputs": [],
   "source": [
    "# defining data directory\n",
    "\n",
    "# f is used for training\n",
    "# c is used for testing\n",
    "\n",
    "data_dir = \"../../data/\"\n",
    "allele = \"A0101\"\n",
    "training_file = data_dir + allele + \"f000\" #just for one fold.\n",
    "testing_file = data_dir + allele + \"f000\" #just for one fold.\n",
    "\n",
    "training = np.loadtxt(training_file, dtype=str)\n",
    "testing = np.loadtxt(testing_file, dtype=str)\n",
    "\n",
    "\n",
    "\n"
   ]
  }
 ],
 "metadata": {
  "kernelspec": {
   "display_name": "MyAnaEnv",
   "language": "python",
   "name": "python3"
  },
  "language_info": {
   "codemirror_mode": {
    "name": "ipython",
    "version": 3
   },
   "file_extension": ".py",
   "mimetype": "text/x-python",
   "name": "python",
   "nbconvert_exporter": "python",
   "pygments_lexer": "ipython3",
   "version": "3.9.18"
  }
 },
 "nbformat": 4,
 "nbformat_minor": 5
}

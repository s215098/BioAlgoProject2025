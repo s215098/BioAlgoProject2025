{
 "cells": [
  {
   "cell_type": "markdown",
   "metadata": {},
   "source": [
    "## Import python packages"
   ]
  },
  {
   "cell_type": "code",
   "execution_count": 1356,
   "metadata": {},
   "outputs": [],
   "source": [
    "import numpy as np\n",
    "import matplotlib.pyplot as plt\n",
    "from scipy.stats import pearsonr"
   ]
  },
  {
   "cell_type": "markdown",
   "metadata": {},
   "source": [
    "## Import data"
   ]
  },
  {
   "cell_type": "code",
   "execution_count": 1357,
   "metadata": {},
   "outputs": [],
   "source": [
    "data_dir = \"/Users/alberteenglund/Documents/DTU/8_Semester/22125_algorithms_in_bioinformatics/algorithms/BioAlgoProject2025/data/\""
   ]
  },
  {
   "cell_type": "markdown",
   "metadata": {},
   "source": [
    "### Define runtime parameters"
   ]
  },
  {
   "cell_type": "code",
   "execution_count": 1358,
   "metadata": {},
   "outputs": [],
   "source": [
    "# Define if we are using blosum or sparse encoding\n",
    "blosum_scheme = False\n",
    "#blosum_scheme = True"
   ]
  },
  {
   "cell_type": "markdown",
   "metadata": {},
   "source": [
    "### Alphabet"
   ]
  },
  {
   "cell_type": "code",
   "execution_count": 1359,
   "metadata": {},
   "outputs": [],
   "source": [
    "alphabet_file = data_dir + \"Matrices/alphabet\"\n",
    "#alphabet_file = \"https://raw.githubusercontent.com/brunoalvarez89/data/master/algorithms_in_bioinformatics/part_3/alphabet\"\n",
    "alphabet = np.loadtxt(alphabet_file, dtype=str)"
   ]
  },
  {
   "cell_type": "markdown",
   "metadata": {},
   "source": [
    "### Blosu50 encoding scheme"
   ]
  },
  {
   "cell_type": "code",
   "execution_count": 1360,
   "metadata": {},
   "outputs": [],
   "source": [
    "blosum_file = data_dir + \"Matrices/blosum50\"\n",
    "#blosum_file = \"https://raw.githubusercontent.com/brunoalvarez89/data/master/algorithms_in_bioinformatics/part_3/blosum50\"\n",
    "\n",
    "_blosum50 = np.loadtxt(blosum_file, dtype=float).reshape((24, -1)).T\n",
    "\n",
    "blosum50 = {}\n",
    "\n",
    "for i, letter_1 in enumerate(alphabet):\n",
    "    \n",
    "    blosum50[letter_1] = {}\n",
    "\n",
    "    for j, letter_2 in enumerate(alphabet):\n",
    "        \n",
    "        blosum50[letter_1][letter_2] = _blosum50[i, j] / 5.0"
   ]
  },
  {
   "cell_type": "markdown",
   "metadata": {},
   "source": [
    "### Sparce encoding scheme"
   ]
  },
  {
   "cell_type": "code",
   "execution_count": 1361,
   "metadata": {},
   "outputs": [],
   "source": [
    "sparse_file = data_dir + \"Matrices/sparse\"\n",
    "\n",
    "_sparse = np.loadtxt(sparse_file, dtype=float)\n",
    "sparse = {}\n",
    "\n",
    "for i, letter_1 in enumerate(alphabet):\n",
    "\n",
    "    sparse[letter_1] = {}\n",
    "\n",
    "    for j, letter_2 in enumerate(alphabet):\n",
    "\n",
    "        sparse[letter_1][letter_2] = _sparse[i, j]"
   ]
  },
  {
   "cell_type": "markdown",
   "metadata": {},
   "source": [
    "## Peptide encoding"
   ]
  },
  {
   "cell_type": "code",
   "execution_count": 1362,
   "metadata": {},
   "outputs": [],
   "source": [
    "def encode(peptides, encoding_scheme, alphabet):\n",
    "    \"\"\"\n",
    "    Encode a list of peptides using the specified encoding scheme.\n",
    "\n",
    "        Parameters:\n",
    "            peptides (list): List of peptide sequences to encode.\n",
    "            encoding_scheme (dict): Dictionary containing the encoding scheme.\n",
    "            alphabet (list): List of letters in the alphabet used for encoding.\n",
    "\n",
    "        Returns:\n",
    "            np.ndarray: A 2D numpy array where each row corresponds to an encoded peptide.\n",
    "    \"\"\"\n",
    "    \n",
    "    encoded_peptides = []\n",
    "\n",
    "    for peptide in peptides:\n",
    "\n",
    "        encoded_peptide = []\n",
    "\n",
    "        for peptide_letter in peptide:\n",
    "\n",
    "            for alphabet_letter in alphabet:\n",
    "\n",
    "                encoded_peptide.append(encoding_scheme[peptide_letter][alphabet_letter])\n",
    "        \n",
    "        # add a 1 (bias)\n",
    "        encoded_peptide.append(1)\n",
    "        \n",
    "        # store peptide\n",
    "        encoded_peptides.append(encoded_peptide)\n",
    "        \n",
    "    return np.array(encoded_peptides)\n"
   ]
  },
  {
   "cell_type": "markdown",
   "metadata": {},
   "source": [
    "## Neural network functions"
   ]
  },
  {
   "cell_type": "markdown",
   "metadata": {},
   "source": [
    "### Activation (sigmoid)"
   ]
  },
  {
   "cell_type": "code",
   "execution_count": 1363,
   "metadata": {},
   "outputs": [],
   "source": [
    "def sigmoid(z):\n",
    "    \"\"\"\n",
    "    Compute the sigmoid function for a given input.\n",
    "\n",
    "        Parameters:\n",
    "            z (float or np.ndarray): Input value(s) for which to compute the sigmoid.\n",
    "\n",
    "        Returns:\n",
    "            float or np.ndarray: The computed sigmoid value(s).\n",
    "    \"\"\"    \n",
    "    \n",
    "    return 1.0 / (1.0 + np.exp(-z))"
   ]
  },
  {
   "cell_type": "markdown",
   "metadata": {},
   "source": [
    "### Forward Propagation"
   ]
  },
  {
   "cell_type": "code",
   "execution_count": 1364,
   "metadata": {},
   "outputs": [],
   "source": [
    "def forward(X, w1, w2):\n",
    "    \n",
    "    # X contains the output from each layer, i.e the input values in the first layer\n",
    "    # w1 are weights connecting input to hidden, and w2 weights connecting hidden to output\n",
    "    # In w[i,j]; i is from and j is to\n",
    "   \n",
    "    # get dimension, substracting the bias\n",
    "    input_layer_dim = w1.shape[0] - 1 \n",
    "    hidden_layer_dim = w2.shape[0] - 1\n",
    "    \n",
    "    ################\n",
    "    # hidden layer #\n",
    "    ################\n",
    "    \n",
    "    # activity of hidden layer\n",
    "    # Remember z_j = sum_i w(i,j)*input(i)\n",
    "    for j in range(hidden_layer_dim):\n",
    "        z = 0.0\n",
    "        for i in range(input_layer_dim+1):\n",
    "            # z += XXX\n",
    "            z += X[0][i] * w1[i, j] # This is the first layer, so we use X[0]. w1 connects input to hidden, so we use w1[i][j] because we have j neurons in the hidden layer.\n",
    "        # X[1][j] = XXX\n",
    "        X[1][j] = sigmoid(z) # This is the second layer, so we use X[1]\n",
    "    \n",
    "    ################\n",
    "    # output layer #\n",
    "    ################\n",
    "    \n",
    "    z = 0\n",
    "    for i in range(hidden_layer_dim+1):\n",
    "        # z += XXX\n",
    "        z += X[1][i] * w2[i, 0] # This is the second layer, so we use X[1]. w2 connects hidden to output, so we use w2[i][0] because we have only one output neuron.\n",
    "    # X[2][0] = XXX\n",
    "    X[2][0] = sigmoid(z) # This is the third layer, so we use X[2]\n",
    "    "
   ]
  },
  {
   "cell_type": "markdown",
   "metadata": {},
   "source": [
    "## Prediction data"
   ]
  },
  {
   "cell_type": "code",
   "execution_count": 1365,
   "metadata": {},
   "outputs": [],
   "source": [
    "evaluation_file = data_dir + \"all_files_new/B5701/e000.csv\"     # Should be changed!!!\n",
    "\n",
    "evaluation_data = np.loadtxt(evaluation_file, dtype=str)\n",
    "\n",
    "peptides = evaluation_data[:, 0]\n",
    "if blosum_scheme:\n",
    "    x_eval = encode(peptides, blosum50, alphabet)\n",
    "else:\n",
    "    x_eval = encode(peptides, sparse, alphabet)\n",
    "\n",
    "y_eval = np.array(evaluation_data[:, 1], dtype=float)"
   ]
  },
  {
   "cell_type": "markdown",
   "metadata": {},
   "source": [
    "## Function to load previously saved Network"
   ]
  },
  {
   "cell_type": "code",
   "execution_count": 1366,
   "metadata": {},
   "outputs": [],
   "source": [
    "def load_network(file_name):\n",
    "    \"\"\"\n",
    "    Load the weights of a neural network from a file.\n",
    "        \n",
    "        Parameters:\n",
    "            file_name (str): The name of the file containing the network weights.\n",
    "        \n",
    "        Returns:\n",
    "            tuple: A tuple containing two numpy arrays:\n",
    "                - w_h_load: Weights from input layer to hidden layer.\n",
    "                - w_o_load: Weights from hidden layer to output layer.\n",
    "    \"\"\"\n",
    "\n",
    "    f = open(file_name, \"r\")\n",
    "\n",
    "    n_line = 0\n",
    "\n",
    "    weight_list = []\n",
    "\n",
    "    for line in f:\n",
    "\n",
    "\n",
    "        # clean and separate line\n",
    "        sline = line.strip().split()\n",
    "\n",
    "\n",
    "        # input layer dimension\n",
    "        if n_line == 1:\n",
    "            input_layer_dim = int(sline[0])\n",
    "\n",
    "        # hidden layer dimension    \n",
    "        if n_line == 2:\n",
    "            hidden_layer_dim = int(sline[0])\n",
    "\n",
    "        # output layer dimension\n",
    "        if n_line == 3:\n",
    "            output_layer_dim = int(sline[0])\n",
    "\n",
    "        # model weights\n",
    "        if n_line >= 5:\n",
    "            for i in range(0, len(sline)):\n",
    "                weight_list.append(float(sline[i]))\n",
    "\n",
    "        n_line += 1\n",
    "\n",
    "    # HIDDEN LAYER WEIGHTS\n",
    "    # w_h[i, j] is the weight that links input's feature \"i\" to neuron \"j\" of the hidden layer        \n",
    "    w_h_load = np.zeros(shape=(input_layer_dim+1, hidden_layer_dim))\n",
    "\n",
    "    for i in range(0, (input_layer_dim+1)*hidden_layer_dim, hidden_layer_dim):\n",
    "\n",
    "        for j in range(0, hidden_layer_dim):\n",
    "\n",
    "            row = i // hidden_layer_dim\n",
    "\n",
    "            w_h_load[row, j] = weight_list[i+j]\n",
    "\n",
    "            \n",
    "    # OUTPUT LAYER WEIGHTS\n",
    "    # w_o[i, j] is the weight that links hidden layer's neuron \"i\" to neuron \"j\" of the output layer\n",
    "    w_o_load = np.zeros(shape=(hidden_layer_dim+1, output_layer_dim))\n",
    "\n",
    "    w_h_end = (input_layer_dim+1) * hidden_layer_dim\n",
    "\n",
    "    for i in range(w_h_end, w_h_end+hidden_layer_dim+1, output_layer_dim):\n",
    "\n",
    "        for j in range(0, output_layer_dim):\n",
    "\n",
    "            row = (i - w_h_end) // output_layer_dim\n",
    "            w_o_load[row, j] = weight_list[i+j]\n",
    "            \n",
    "            \n",
    "    # return weight matrices\n",
    "    return w_h_load, w_o_load"
   ]
  },
  {
   "cell_type": "markdown",
   "metadata": {},
   "source": [
    "## Main code"
   ]
  },
  {
   "cell_type": "code",
   "execution_count": 1367,
   "metadata": {},
   "outputs": [],
   "source": [
    "# Load network\n",
    "synfile_name = \"/Users/alberteenglund/Documents/DTU/8_Semester/22125_algorithms_in_bioinformatics/algorithms/BioAlgoProject2025/results/ANN/B5701.res/blosum/hidden.5/epi.0.1/B5701-blosum-5-0.1-4.syn\"\n",
    "# synfile_name = data_dir + \"ANN/A2403_bl.syn\"\n",
    "# synfile_name = data_dir + \"ANN/A0201_sp.syn\"\n",
    "# synfile_name = data_dir + \"ANN/A0201_bl.syn\"\n",
    "w_h, w_o = load_network(synfile_name)"
   ]
  },
  {
   "cell_type": "code",
   "execution_count": 1368,
   "metadata": {},
   "outputs": [],
   "source": [
    "# X matrix \n",
    "input_layer_dim = w_h.shape[0]\n",
    "hidden_layer_dim = w_o.shape[0]\n",
    "output_layer_dim = w_o.shape[1]"
   ]
  },
  {
   "cell_type": "code",
   "execution_count": 1369,
   "metadata": {},
   "outputs": [],
   "source": [
    "# Find max network dimensions\n",
    "X_dim = max(input_layer_dim, hidden_layer_dim, output_layer_dim)\n",
    "X = np.zeros(shape=(3, X_dim))"
   ]
  },
  {
   "cell_type": "code",
   "execution_count": 1370,
   "metadata": {},
   "outputs": [],
   "source": [
    "# The last column in each X layer is set to 1 to deal with the bias weights\n",
    "X[0][input_layer_dim-1] = 1.0 \n",
    "X[1][hidden_layer_dim-1] = 1.0"
   ]
  },
  {
   "cell_type": "code",
   "execution_count": 1371,
   "metadata": {},
   "outputs": [
    {
     "name": "stdout",
     "output_type": "stream",
     "text": [
      "YCAVVPLVY 0.1953393204688607 0.16655\n",
      "YSAVVPLVY 0.20747792013527655 0.401274\n",
      "YPAVVPLVY 0.18909673302152882 0.025892\n",
      "YTAVVPLVL 0.20227391194279146 0.159186\n",
      "YVIPHVHAF 0.23950469307392264 0.365031\n",
      "YKAVVPLVY 0.17767602667082483 0.104619\n",
      "YTDVVPLVY 0.2499617135537713 0.098206\n",
      "YNAVVPLVY 0.1869593617812419 0.083856\n",
      "KAGQYVTIW 0.31269726691770766 0.713395\n",
      "YTAVVPLVC 0.19178228728351618 0.073287\n",
      "YTAVVPLVW 0.2511384951915416 0.583267\n",
      "YYAVVPLVY 0.16971729068817915 0.102116\n"
     ]
    }
   ],
   "source": [
    "# data for plotting\n",
    "y_preds_eval = []\n",
    "\n",
    "# loop\n",
    "for i in range(0, len(x_eval)):        \n",
    "\n",
    "    # fetch training point\n",
    "    x = x_eval[i]\n",
    "    y = y_eval[i]\n",
    "\n",
    "    if len(x) == input_layer_dim:\n",
    "        \n",
    "        X[0] = x\n",
    "\n",
    "        # forward propagation\n",
    "        forward(X, w_h, w_o)\n",
    "        # y_pred = XXX\n",
    "        y_pred = X[2][0] # This is the third layer, so we use X[2][0] to get the output prediction\n",
    "        \n",
    "        y_preds_eval.append(y_pred)\n",
    "        \n",
    "        print(peptides[i], y_pred, y)\n",
    "    else:\n",
    "        print(\"Error. Peptide length\", len(x),\"does not match network sizs\", input_layer_dim, \"Skip\")\n",
    "\n",
    "# store training performance\n",
    "eval_perf = pearsonr(y_eval, np.asarray(y_preds_eval))[0]"
   ]
  },
  {
   "cell_type": "code",
   "execution_count": 1372,
   "metadata": {},
   "outputs": [
    {
     "name": "stdout",
     "output_type": "stream",
     "text": [
      "# Prediction PCC: 0.8185\n"
     ]
    },
    {
     "data": {
      "image/png": "[encoded data removed]",
      "text/plain": [
       "<Figure size 350x350 with 1 Axes>"
      ]
     },
     "metadata": {},
     "output_type": "display_data"
    }
   ],
   "source": [
    "# PERFORMANCE REPORT\n",
    "fig = plt.figure(figsize=(5, 5), dpi = 70)\n",
    "\n",
    "plt.scatter(y_preds_eval, y_eval)\n",
    "plt.ylabel(\"Target Value\", fontsize=10);\n",
    "plt.xlabel(\"Prediction Value\", fontsize=10);\n",
    "\n",
    "# print performance\n",
    "print(\"# Prediction PCC:\", round(eval_perf, 4))"
   ]
  },
  {
   "cell_type": "code",
   "execution_count": null,
   "metadata": {},
   "outputs": [
    {
     "name": "stdout",
     "output_type": "stream",
     "text": [
      "    peptide_length  target  prediction\n",
      "0                9       0    0.248661\n",
      "1                9       0    0.288105\n",
      "2                9       0    0.238442\n",
      "3                9       0    0.204422\n",
      "4                9       0    0.304235\n",
      "5                9       0    0.196853\n",
      "6                9       0    0.302195\n",
      "7                9       0    0.243099\n",
      "8                9       1    0.589893\n",
      "9                9       0    0.132208\n",
      "10               9       1    0.443388\n",
      "11               9       0    0.126793\n",
      "12               9       0    0.211684\n",
      "13               9       0    0.242475\n",
      "14               9       0    0.192609\n",
      "15               9       0    0.180083\n",
      "16               9       0    0.355521\n",
      "17               9       0    0.171805\n",
      "18               9       0    0.248361\n",
      "19               9       0    0.208580\n",
      "20               9       1    0.497357\n",
      "21               9       0    0.119298\n",
      "22               9       1    0.395570\n",
      "23               9       0    0.129161\n",
      "24               9       0    0.270128\n",
      "25               9       0    0.246362\n",
      "26               9       0    0.212861\n",
      "27               9       0    0.199910\n",
      "28               9       0    0.213307\n",
      "29               9       0    0.183231\n",
      "30               9       0    0.281520\n",
      "31               9       0    0.206782\n",
      "32               9       1    0.265050\n",
      "33               9       0    0.148438\n",
      "34               9       1    0.264282\n",
      "35               9       0    0.174851\n",
      "36               9       0    0.245856\n",
      "37               9       0    0.258150\n",
      "38               9       0    0.210153\n",
      "39               9       0    0.202044\n",
      "40               9       0    0.276575\n",
      "41               9       0    0.189805\n",
      "42               9       0    0.321340\n",
      "43               9       0    0.216330\n",
      "44               9       1    0.518351\n",
      "45               9       0    0.134478\n",
      "46               9       1    0.420830\n",
      "47               9       0    0.144656\n"
     ]
    },
    {
     "ename": "NameError",
     "evalue": "name 'plt' is not defined",
     "output_type": "error",
     "traceback": [
      "\u001b[0;31m---------------------------------------------------------------------------\u001b[0m",
      "\u001b[0;31mNameError\u001b[0m                                 Traceback (most recent call last)",
      "Cell \u001b[0;32mIn[2], line 41\u001b[0m\n\u001b[1;32m     38\u001b[0m     plt\u001b[38;5;241m.\u001b[39mplot(fpr, tpr, label\u001b[38;5;241m=\u001b[39m\u001b[38;5;124mf\u001b[39m\u001b[38;5;124m'\u001b[39m\u001b[38;5;124mAUC = \u001b[39m\u001b[38;5;132;01m{\u001b[39;00mroc_auc\u001b[38;5;132;01m:\u001b[39;00m\u001b[38;5;124m.2f\u001b[39m\u001b[38;5;132;01m}\u001b[39;00m\u001b[38;5;124m (\u001b[39m\u001b[38;5;132;01m{\u001b[39;00mlength\u001b[38;5;132;01m}\u001b[39;00m\u001b[38;5;124m-mer)\u001b[39m\u001b[38;5;124m'\u001b[39m)\n\u001b[1;32m     40\u001b[0m \u001b[38;5;66;03m# Plot ROC curve for each peptide length\u001b[39;00m\n\u001b[0;32m---> 41\u001b[0m \u001b[43mplt\u001b[49m\u001b[38;5;241m.\u001b[39mfigure(figsize\u001b[38;5;241m=\u001b[39m(\u001b[38;5;241m7\u001b[39m, \u001b[38;5;241m7\u001b[39m))\n\u001b[1;32m     42\u001b[0m \u001b[38;5;28;01mfor\u001b[39;00m length, group \u001b[38;5;129;01min\u001b[39;00m pred_per_len\u001b[38;5;241m.\u001b[39mgroupby(\u001b[38;5;124m'\u001b[39m\u001b[38;5;124mpeptide_length\u001b[39m\u001b[38;5;124m'\u001b[39m):\n\u001b[1;32m     43\u001b[0m     fpr, tpr, _ \u001b[38;5;241m=\u001b[39m roc_curve(group[\u001b[38;5;124m'\u001b[39m\u001b[38;5;124mtarget\u001b[39m\u001b[38;5;124m'\u001b[39m], group[\u001b[38;5;124m'\u001b[39m\u001b[38;5;124mprediction\u001b[39m\u001b[38;5;124m'\u001b[39m])\n",
      "\u001b[0;31mNameError\u001b[0m: name 'plt' is not defined"
     ]
    }
   ],
   "source": [
    "# %% [markdown]\n",
    "# ## ROC-AUC Plotting\n",
    "\n",
    "# %%\n",
    "import numpy as np\n",
    "import matplotlib.pyplot as plt\n",
    "import pandas as pd\n",
    "from sklearn.metrics import roc_curve, auc\n",
    "\n",
    "pred_file = \"/Users/alberteenglund/Documents/DTU/8_Semester/22125_algorithms_in_bioinformatics/algorithms/BioAlgoProject2025/results/ANN/B5701.res/blosum/hidden.5/epi.0.1/concat.eval\"\n",
    "pred_data = np.loadtxt(pred_file, dtype=str)\n",
    "\n",
    "y_eval_new = np.array(pred_data[:, 2], dtype=float)\n",
    "y_preds_eval_new = np.array(pred_data[:, 1], dtype=float)\n",
    "\n",
    "# Set threshold for binary classification\n",
    "BINDER_THRESHOLD = 0.426\n",
    "\n",
    "# Convert predictions and true values into binary classes\n",
    "\n",
    "y_eval_class = np.where(y_eval_new.flatten() >= BINDER_THRESHOLD, 1, 0)\n",
    "y_preds_class = np.where(np.array(y_preds_eval_new).flatten() >= BINDER_THRESHOLD, 1, 0)\n",
    "\n",
    "# print(y_eval_class)\n",
    "# print(y_preds_class)\n",
    "\n",
    "# Combine into dataframe for peptide length-specific ROC curves\n",
    "# Ensure peptides are correctly defined\n",
    "peptide_lengths = np.array([len(p) for p in pred_data[:, 0]])  # Use the first column of pred_data for peptide sequences\n",
    "pred_per_len = pd.DataFrame({\n",
    "    'peptide_length': peptide_lengths,\n",
    "    'target': y_eval_class,\n",
    "    'prediction': np.array(y_preds_eval_new)\n",
    "})\n",
    "print(pred_per_len)\n",
    "\n",
    "# Function to plot ROC curve for a specific peptide length\n",
    "def plot_roc_curve(fpr, tpr, roc_auc, length):\n",
    "    plt.plot(fpr, tpr, label=f'AUC = {roc_auc:.2f} ({length}-mer)')\n",
    "\n",
    "# Plot ROC curve for each peptide length\n",
    "plt.figure(figsize=(7, 7))\n",
    "for length, group in pred_per_len.groupby('peptide_length'):\n",
    "    fpr, tpr, _ = roc_curve(group['target'], group['prediction'])\n",
    "    roc_auc = auc(fpr, tpr)\n",
    "    plot_roc_curve(fpr, tpr, roc_auc, length)\n",
    "\n",
    "# Plot formatting\n",
    "plt.plot([0, 1], [0, 1], linestyle='--', color='black')\n",
    "plt.title('Receiver Operating Characteristic (ROC)')\n",
    "plt.xlabel('False Positive Rate')\n",
    "plt.ylabel('True Positive Rate')\n",
    "plt.legend(loc='lower right')\n",
    "plt.tight_layout()\n",
    "plt.savefig(\"roc_auc_plot.png\")\n",
    "plt.show()"
   ]
  },
  {
   "cell_type": "code",
   "execution_count": 1383,
   "metadata": {},
   "outputs": [
    {
     "data": {
      "image/png": "[encoded data removed]",
      "text/plain": [
       "<Figure size 700x700 with 1 Axes>"
      ]
     },
     "metadata": {},
     "output_type": "display_data"
    }
   ],
   "source": [
    "from sklearn.metrics import precision_recall_curve, average_precision_score\n",
    "\n",
    "# Function to plot PR curve for a specific peptide length\n",
    "def plot_pr_curve(precision, recall, ap, length):\n",
    "    plt.plot(recall, precision, label=f'AP = {ap:.2f} ({length}-mer)')\n",
    "\n",
    "# Plot PR curve for each peptide length\n",
    "plt.figure(figsize=(7, 7))\n",
    "for length, group in pred_per_len.groupby('peptide_length'):\n",
    "    precision, recall, _ = precision_recall_curve(group['target'], group['prediction'])\n",
    "    ap = average_precision_score(group['target'], group['prediction'])\n",
    "    plot_pr_curve(precision, recall, ap, length)\n",
    "\n",
    "# Plot formatting\n",
    "plt.title('Precision-Recall Curve')\n",
    "plt.xlabel('Recall')\n",
    "plt.ylabel('Precision')\n",
    "plt.plot([0, 1], [0.5, 0.5], linestyle='--', color='gray', label=\"Baseline\")\n",
    "plt.legend(loc='lower left')\n",
    "plt.tight_layout()\n",
    "plt.savefig(\"pr_curve.png\")\n",
    "plt.show()\n"
   ]
  },
  {
   "cell_type": "code",
   "execution_count": null,
   "metadata": {},
   "outputs": [],
   "source": [
    "from sklearn.metrics import matthews_corrcoef\n",
    "\n",
    "# Add to your peptide-length loop\n",
    "for length, group in pred_per_len.groupby('peptide_length'):\n",
    "    precision, recall, _ = precision_recall_curve(group['target'], group['prediction'])\n",
    "    ap = average_precision_score(group['target'], group['prediction'])\n",
    "\n",
    "    # MCC needs binary predictions — apply threshold\n",
    "    preds_bin = (group['prediction'] >= BINDER_THRESHOLD).astype(int)\n",
    "    mcc = matthews_corrcoef(group['target'], preds_bin)\n",
    "\n",
    "    plot_pr_curve(precision, recall, ap, length)\n",
    "    print(f\"{length}-mer — AP: {ap:.3f}, MCC: {mcc:.3f}\")"
   ]
  }
 ],
 "metadata": {
  "kernelspec": {
   "display_name": "algo",
   "language": "python",
   "name": "python3"
  },
  "language_info": {
   "codemirror_mode": {
    "name": "ipython",
    "version": 3
   },
   "file_extension": ".py",
   "mimetype": "text/x-python",
   "name": "python",
   "nbconvert_exporter": "python",
   "pygments_lexer": "ipython3",
   "version": "3.9.13"
  }
 },
 "nbformat": 4,
 "nbformat_minor": 2
}

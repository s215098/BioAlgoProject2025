{
 "cells": [
  {
   "cell_type": "markdown",
   "metadata": {
    "colab_type": "text",
    "id": "RTK1nItb69_J"
   },
   "source": [
    "# Neural Networks\n",
    "\n",
    "### Fill out the parts with XXX's"
   ]
  },
  {
   "cell_type": "markdown",
   "metadata": {
    "colab_type": "text",
    "id": "GtI1xFfVEhMn"
   },
   "source": [
    "## Python Imports"
   ]
  },
  {
   "cell_type": "code",
   "execution_count": 187,
   "metadata": {
    "colab": {},
    "colab_type": "code",
    "collapsed": true,
    "id": "FS1w6JnSoC_P"
   },
   "outputs": [],
   "source": [
    "import numpy as np\n",
    "import matplotlib.pyplot as plt\n",
    "from scipy.stats import pearsonr"
   ]
  },
  {
   "cell_type": "markdown",
   "metadata": {
    "colab_type": "text",
    "id": "gebtcRWKgJmw"
   },
   "source": [
    "## Data Imports"
   ]
  },
  {
   "cell_type": "markdown",
   "metadata": {
    "colab_type": "text",
    "id": "Yds3ozYytl8j"
   },
   "source": [
    "## DEFINE THE PATH TO YOUR COURSE DIRECTORY"
   ]
  },
  {
   "cell_type": "code",
   "execution_count": 188,
   "metadata": {
    "colab": {},
    "colab_type": "code",
    "collapsed": true,
    "id": "GhoWNOG7tl8k"
   },
   "outputs": [],
   "source": [
    "data_dir = \"/Users/alberteenglund/Documents/DTU/8_Semester/22125_algorithms_in_bioinformatics/algorithms/BioAlgoProject2025/data/\""
   ]
  },
  {
   "cell_type": "markdown",
   "metadata": {},
   "source": [
    "### Define run time parameters"
   ]
  },
  {
   "cell_type": "code",
   "execution_count": 189,
   "metadata": {
    "collapsed": true
   },
   "outputs": [],
   "source": [
    "# Define if we are using blosum or sparse encoding\n",
    "#blosum_scheme = False\n",
    "blosum_scheme = True"
   ]
  },
  {
   "cell_type": "markdown",
   "metadata": {
    "colab_type": "text",
    "id": "IhPjK1U6NUNE"
   },
   "source": [
    "### Alphabet"
   ]
  },
  {
   "cell_type": "code",
   "execution_count": 190,
   "metadata": {
    "colab": {},
    "colab_type": "code",
    "collapsed": true,
    "id": "22EsO9nHhUSn"
   },
   "outputs": [],
   "source": [
    "alphabet_file = data_dir + \"Matrices/alphabet\"\n",
    "#alphabet_file = \"https://raw.githubusercontent.com/brunoalvarez89/data/master/algorithms_in_bioinformatics/part_3/alphabet\"\n",
    "\n",
    "alphabet = np.loadtxt(alphabet_file, dtype=str)"
   ]
  },
  {
   "cell_type": "markdown",
   "metadata": {
    "colab_type": "text",
    "id": "6vAARkOhNaIR"
   },
   "source": [
    "### Blosum50 Encoding Scheme"
   ]
  },
  {
   "cell_type": "code",
   "execution_count": 191,
   "metadata": {
    "colab": {},
    "colab_type": "code",
    "collapsed": true,
    "id": "IX7KtVV9Is60"
   },
   "outputs": [],
   "source": [
    "blosum_file = data_dir + \"Matrices/blosum50\"\n",
    "#blosum_file = \"https://raw.githubusercontent.com/brunoalvarez89/data/master/algorithms_in_bioinformatics/part_3/blosum50\"\n",
    "\n",
    "_blosum50 = np.loadtxt(blosum_file, dtype=float).reshape((24, -1)).T\n",
    "\n",
    "blosum50 = {}\n",
    "\n",
    "for i, letter_1 in enumerate(alphabet):\n",
    "    \n",
    "    blosum50[letter_1] = {}\n",
    "\n",
    "    for j, letter_2 in enumerate(alphabet):\n",
    "        \n",
    "        blosum50[letter_1][letter_2] = _blosum50[i, j] / 5.0"
   ]
  },
  {
   "cell_type": "markdown",
   "metadata": {},
   "source": [
    "### Sparse Encoding Scheme"
   ]
  },
  {
   "cell_type": "code",
   "execution_count": 192,
   "metadata": {
    "collapsed": true
   },
   "outputs": [],
   "source": [
    "sparse_file = data_dir + \"Matrices/sparse\"\n",
    "_sparse = np.loadtxt(sparse_file, dtype=float)\n",
    "sparse = {}\n",
    "\n",
    "for i, letter_1 in enumerate(alphabet):\n",
    "\n",
    "    sparse[letter_1] = {}\n",
    "\n",
    "    for j, letter_2 in enumerate(alphabet):\n",
    "\n",
    "        sparse[letter_1][letter_2] = _sparse[i, j]"
   ]
  },
  {
   "cell_type": "markdown",
   "metadata": {
    "colab_type": "text",
    "id": "Y3VVxOm7N7e2"
   },
   "source": [
    "## Peptide Encoding"
   ]
  },
  {
   "cell_type": "code",
   "execution_count": 193,
   "metadata": {
    "colab": {},
    "colab_type": "code",
    "collapsed": true,
    "id": "nbDC1pxDN6Zq"
   },
   "outputs": [],
   "source": [
    "def encode(peptides, encoding_scheme, alphabet):\n",
    "    \n",
    "    encoded_peptides = []\n",
    "\n",
    "    for peptide in peptides:\n",
    "\n",
    "        encoded_peptide = []\n",
    "\n",
    "        for peptide_letter in peptide:\n",
    "\n",
    "            for alphabet_letter in alphabet:\n",
    "\n",
    "                encoded_peptide.append(encoding_scheme[peptide_letter][alphabet_letter])\n",
    "        \n",
    "        # add a 1 (bias)\n",
    "        encoded_peptide.append(1)\n",
    "        \n",
    "        # store peptide\n",
    "        encoded_peptides.append(encoded_peptide)\n",
    "        \n",
    "    return np.array(encoded_peptides)"
   ]
  },
  {
   "cell_type": "markdown",
   "metadata": {
    "colab_type": "text",
    "id": "fthOCEHqgRNl"
   },
   "source": [
    "## Neural Network Functions"
   ]
  },
  {
   "cell_type": "markdown",
   "metadata": {
    "colab_type": "text",
    "id": "wxMTWx41gLTN"
   },
   "source": [
    "### Error (RMS)"
   ]
  },
  {
   "cell_type": "code",
   "execution_count": 194,
   "metadata": {
    "colab": {},
    "colab_type": "code",
    "collapsed": true,
    "id": "LJPyml6agPb3"
   },
   "outputs": [],
   "source": [
    "def error(y, y_pred):\n",
    "    return 0.5*(y_pred - y)**2"
   ]
  },
  {
   "cell_type": "markdown",
   "metadata": {
    "colab_type": "text",
    "id": "F1Zisf3mgVkZ"
   },
   "source": [
    "### Activation (Sigmoid)"
   ]
  },
  {
   "cell_type": "code",
   "execution_count": 195,
   "metadata": {
    "colab": {},
    "colab_type": "code",
    "collapsed": true,
    "id": "D2VuJs8ugaiN"
   },
   "outputs": [],
   "source": [
    "def sigmoid(z):\n",
    "    return 1.0 / (1.0 + np.exp(-z))"
   ]
  },
  {
   "cell_type": "markdown",
   "metadata": {
    "colab_type": "text",
    "id": "5sDFPM3jgeeZ"
   },
   "source": [
    "### Derivative of Activation"
   ]
  },
  {
   "cell_type": "code",
   "execution_count": 196,
   "metadata": {
    "colab": {},
    "colab_type": "code",
    "collapsed": true,
    "id": "0piUuQ_ugjsw"
   },
   "outputs": [],
   "source": [
    "def sigmoid_prime(a):\n",
    "    return (1-a)*a"
   ]
  },
  {
   "cell_type": "markdown",
   "metadata": {
    "colab_type": "text",
    "id": "GJfPcRb1gmqr"
   },
   "source": [
    "### Forward Propagation"
   ]
  },
  {
   "cell_type": "code",
   "execution_count": 197,
   "metadata": {
    "colab": {},
    "colab_type": "code",
    "collapsed": true,
    "id": "5Pcp8_6JgzfP"
   },
   "outputs": [],
   "source": [
    "def forward(X, w1, w2):\n",
    "   \n",
    "    # get dimension, substracting the bias\n",
    "    input_layer_dim = w1.shape[0] - 1 \n",
    "    hidden_layer_dim = w2.shape[0] - 1\n",
    "    \n",
    "    ################\n",
    "    # hidden layer #\n",
    "    ################\n",
    "    \n",
    "    # activity of hidden layer\n",
    "    for j in range(hidden_layer_dim):\n",
    "        z = 0.0\n",
    "        for i in range(input_layer_dim+1):\n",
    "            z += X[0][i]* w1[i,j]\n",
    "        X[1][j] = sigmoid(z)\n",
    "    \n",
    "    ################\n",
    "    # output layer #\n",
    "    ################\n",
    "    \n",
    "    z = 0\n",
    "    for i in range(hidden_layer_dim+1):\n",
    "        z += X[1][i]*w2[i,0]\n",
    "    X[2][0] = sigmoid(z)"
   ]
  },
  {
   "cell_type": "markdown",
   "metadata": {
    "colab_type": "text",
    "id": "UG11EsKhg133"
   },
   "source": [
    "### Back Propagation (Gradient Descent)"
   ]
  },
  {
   "cell_type": "code",
   "execution_count": 198,
   "metadata": {
    "colab": {},
    "colab_type": "code",
    "collapsed": true,
    "id": "Z5266L34oC_T"
   },
   "outputs": [],
   "source": [
    "def back_prop(X, t, w_h, w_o, dj_dw_h, dj_dw_o):\n",
    "    \n",
    "    # dj_dw_h are the derivativs with respect to the weights\n",
    "    # connecting the input to the hidden layer\n",
    "    # dj_dw_o are the derivatics with respect to the weights\n",
    "    # connecting the hidden to the outout layer\n",
    "\n",
    "    # get dimension, substracting the bias\n",
    "    input_layer_dim = w_h.shape[0] - 1 \n",
    "    hidden_layer_dim = w_o.shape[0] - 1\n",
    "    \n",
    "    ##############################################    \n",
    "    # derivative of cost function respect to w_o #\n",
    "    # Remember X[2][0] is the prediction value,\n",
    "    # And dj_dw_o = dE/dw = dE/dO * dO/do * do/dw\n",
    "    ##############################################\n",
    "    \n",
    "    delta = (X[2][0] - t) * sigmoid_prime(X[2][0])\n",
    "    \n",
    "    for i in range(hidden_layer_dim+1):\n",
    "        \n",
    "        dj_dw_o[i] = delta * X[1][i]  # X[1][i] is the output from the hidden layer\n",
    "    \n",
    "    ##############################################\n",
    "    # derivative of cost function respect to w_h #\n",
    "    # Remember dj_dw_h = dE/dv where v are the weight connecting\n",
    "    # the input to the hidden layer, and\n",
    "    # dE/dv = dE/dO * dO/do * do/dH * dH/dh * dh/dv\n",
    "    # where H is the output from hidden neuron j, and v is the\n",
    "    # weight connecting input neuron i to hidden neuron j\n",
    "    ##############################################\n",
    "    \n",
    "    for j in range(hidden_layer_dim):\n",
    "\n",
    "        delta2 = delta * w_o[j, 0] * sigmoid_prime(X[1][j])  \n",
    "        \n",
    "        for i in range (input_layer_dim+1): # +1 to include the input layer bias\n",
    "\n",
    "            dj_dw_h[i, j] = delta2 * X[0][i]\n"
   ]
  },
  {
   "cell_type": "markdown",
   "metadata": {
    "colab_type": "text",
    "id": "aiGARmlIyK8h"
   },
   "source": [
    "### Save network to file"
   ]
  },
  {
   "cell_type": "code",
   "execution_count": 199,
   "metadata": {
    "colab": {},
    "colab_type": "code",
    "collapsed": true,
    "id": "FB-ljT8H8kZ7"
   },
   "outputs": [],
   "source": [
    "def save_network(file_name, w_h, w_o, lpcc, lerr, tpcc, terr, epochs):\n",
    "    \n",
    "    input_layer_dim = w_h.shape[0]\n",
    "    hidden_layer_dim = w_o.shape[0]\n",
    "    output_layer_dim = w_o.shape[1]\n",
    "\n",
    "    with open(file_name, 'w') as file:\n",
    "\n",
    "        \n",
    "        # run data\n",
    "        file.write(\"TESTRUNID\")\n",
    "        file.write(\" EPOCH: \" + str(epochs))\n",
    "        file.write(\" L_PCC: \" + str(lpcc))\n",
    "        file.write(\" L_ERR: \" + str(lerr))\n",
    "        file.write(\" T_PCC: \" + str(tpcc))\n",
    "        file.write(\" T_ERR: \" + str(terr))\n",
    "        file.write(\"\\n\")\n",
    "\n",
    "        # LAYER: 1 \n",
    "        file.write(str(input_layer_dim-1) + \" LAYER: 1\")\n",
    "        file.write(\"\\n\")\n",
    "\n",
    "        # LAYER: 2 \n",
    "        file.write(str(hidden_layer_dim-1) + \" LAYER: 2\")\n",
    "        file.write(\"\\n\")\n",
    "\n",
    "        # LAYER: 3\n",
    "        file.write(str(output_layer_dim) + \" LAYER: 3\")\n",
    "        file.write(\"\\n\")\n",
    "\n",
    "        # number of training cycles\n",
    "        # :ILEARN \n",
    "        file.write(str(epochs) + \" :ILEARN\")\n",
    "        file.write(\"\\n\")\n",
    "        \n",
    "        # network weights (five per line)\n",
    "        weights = [w_h, w_o]\n",
    "        \n",
    "        cnt = 0\n",
    "\n",
    "        for w in weights:\n",
    "\n",
    "            w = w.flatten()\n",
    "\n",
    "            for i in range(0, len(w)):\n",
    "\n",
    "                file.write(str(w[i]) + str(\"\\t\"))\n",
    "                \n",
    "                cnt += 1\n",
    "                \n",
    "                if cnt == 5:\n",
    "                    file.write(\"\\n\")\n",
    "                    cnt = 0\n",
    "                    \n",
    "        if cnt != 0:\n",
    "            file.write(\"\\n\")\n",
    "            \n",
    "            "
   ]
  },
  {
   "cell_type": "markdown",
   "metadata": {
    "colab_type": "text",
    "id": "wYKCvNimhKGN"
   },
   "source": [
    "## Network Architecture (Feed Forward)"
   ]
  },
  {
   "cell_type": "code",
   "execution_count": 200,
   "metadata": {
    "colab": {},
    "colab_type": "code",
    "collapsed": true,
    "id": "16VBk02qoC_Z"
   },
   "outputs": [],
   "source": [
    "def feed_forward_network(input_layer_dim, hidden_layer_dim, output_layer_dim):\n",
    "    \n",
    "    # layer dimensions\n",
    "    i_dim = input_layer_dim      # vector of shape (i_dim,) \n",
    "    h_dim = hidden_layer_dim     # matrix of shape (i_dim, h_dim)\n",
    "    o_dim = output_layer_dim     # matrix of shape (h_dim, o_dim)\n",
    "    \n",
    "    # hidden layer weights\n",
    "    # w_h[i, j] is the weight that links input's feature \"i\" to neuron \"j\" of the hidden layer\n",
    "    w_h = np.random.uniform(-0.1, 0.1, size=(i_dim+1)*h_dim).reshape(i_dim+1, h_dim)\n",
    "        \n",
    "    # output layer weights\n",
    "    # w_o[i, j] is the weight that links hidden layer's neuron \"i\" to neuron \"j\" of the output layer\n",
    "    # since we only have one output neuron, j = 1, and w_o behaves as a vector, not a matrix\n",
    "    w_o = np.random.uniform(-0.1, 0.1, size=(h_dim+1)*o_dim).reshape(h_dim+1, o_dim)\n",
    "    \n",
    "    # X matrix, X stores the output from each layer\n",
    "    X_dim = max(i_dim, h_dim, o_dim)\n",
    "    X = np.zeros(shape=(3, X_dim+1))\n",
    "    \n",
    "    # The last column of the X layer is one, to deal with the bias\n",
    "    X[0][input_layer_dim] = 1.0 \n",
    "    X[1][hidden_layer_dim] = 1.0\n",
    "    \n",
    "    # print network summary\n",
    "    print(\"NETWORK SUMMARY\")\n",
    "    print(\"---------------\" )\n",
    "    print(\"Input Layer shape:\", (1, input_layer_dim))\n",
    "    print(\"Hidden Layer shape:\", w_h.shape)\n",
    "    print(\"Output layer shape:\", w_o.shape)\n",
    "    print(\"Total parameters:\", (i_dim+1)*h_dim + (h_dim+1)*o_dim)\n",
    "    print(\"\")\n",
    "    \n",
    "    # return everything\n",
    "    return w_h, w_o, X"
   ]
  },
  {
   "cell_type": "markdown",
   "metadata": {
    "colab_type": "text",
    "id": "4hypMLZF7qgO"
   },
   "source": [
    "## Training Data"
   ]
  },
  {
   "cell_type": "code",
   "execution_count": 201,
   "metadata": {
    "colab": {},
    "colab_type": "code",
    "collapsed": true,
    "id": "tm9hz3I07rw2"
   },
   "outputs": [],
   "source": [
    "training_file = data_dir + \"all_files_new/A0201/f001.csv\"\n",
    "#training_file = data_dir + \"ANN/A0201_training\"\n",
    "training_data = np.loadtxt(training_file, dtype=str)\n",
    "\n",
    "peptides = training_data[:, 0]\n",
    "\n",
    "if blosum_scheme:\n",
    "    x_train = encode(peptides, blosum50, alphabet)\n",
    "else:\n",
    "    x_train = encode(peptides, sparse, alphabet)\n",
    "\n",
    "y_train = np.array(training_data[:, 1], dtype=float)"
   ]
  },
  {
   "cell_type": "markdown",
   "metadata": {
    "colab_type": "text",
    "id": "Wvd-bHF07r8y"
   },
   "source": [
    "## Evaluation Data"
   ]
  },
  {
   "cell_type": "code",
   "execution_count": 202,
   "metadata": {
    "colab": {},
    "colab_type": "code",
    "collapsed": true,
    "id": "IWqavwaU7s10"
   },
   "outputs": [],
   "source": [
    "evaluation_file = data_dir + \"all_files_new/A0201/c001.csv\"\n",
    "#evaluation_file = data_dir + \"ANN/A0201_evaluation\"\n",
    "evaluation_data = np.loadtxt(evaluation_file, dtype=str)\n",
    "\n",
    "peptides = evaluation_data[:, 0]\n",
    "if blosum_scheme:\n",
    "    x_eval = encode(peptides, blosum50, alphabet)\n",
    "else:\n",
    "    x_eval = encode(peptides, sparse, alphabet)\n",
    "\n",
    "y_eval = np.array(evaluation_data[:, 1], dtype=float)"
   ]
  },
  {
   "cell_type": "markdown",
   "metadata": {
    "colab_type": "text",
    "id": "eYQR6p06Up8h"
   },
   "source": [
    "## Train Network"
   ]
  },
  {
   "cell_type": "code",
   "execution_count": 203,
   "metadata": {
    "colab": {
     "base_uri": "https://localhost:8080/",
     "height": 2686
    },
    "colab_type": "code",
    "id": "N0NbseaEoC_e",
    "outputId": "86a68421-5194-4efe-959b-9b17cecba970",
    "scrolled": false
   },
   "outputs": [
    {
     "name": "stdout",
     "output_type": "stream",
     "text": [
      "NETWORK SUMMARY\n",
      "---------------\n",
      "Input Layer shape: (1, 180)\n",
      "Hidden Layer shape: (181, 5)\n",
      "Output layer shape: (6, 1)\n",
      "Total parameters: 911\n",
      "\n",
      "# Dump network 0 Best MSE 0.03491862280840992 PCC 0.68764349486418\n",
      "# Dump network 1 Best MSE 0.023192089174040066 PCC 0.7341454776089534\n",
      "# Dump network 2 Best MSE 0.019225734613055673 PCC 0.7617269168421767\n",
      "# Dump network 3 Best MSE 0.017472639810331925 PCC 0.7806829052979579\n",
      "# Dump network 4 Best MSE 0.016491983525186705 PCC 0.7937026739074406\n",
      "# Dump network 5 Best MSE 0.015934354954724252 PCC 0.8009489933130105\n",
      "# Dump network 6 Best MSE 0.015466045308355502 PCC 0.8087882061556204\n",
      "# Dump network 7 Best MSE 0.015034214521202165 PCC 0.8130899520129912\n",
      "# Dump network 9 Best MSE 0.014667834318453333 PCC 0.8187591320774811\n",
      "# Dump network 10 Best MSE 0.014326003483020941 PCC 0.823291247074842\n",
      "# Dump network 12 Best MSE 0.01422054390391774 PCC 0.826278668204944\n",
      "# Dump network 13 Best MSE 0.014075739791069826 PCC 0.8276258331869658\n",
      "# Dump network 16 Best MSE 0.013954551894385754 PCC 0.8300962221874149\n",
      "# Dump network 17 Best MSE 0.013946222148399147 PCC 0.8303733478902202\n",
      "# Dump network 18 Best MSE 0.013924526849262655 PCC 0.8328712534608016\n",
      "# Dump network 19 Best MSE 0.013880751701968787 PCC 0.8323081091666864\n",
      "# Dump network 22 Best MSE 0.01373603860967185 PCC 0.8329024235728352\n",
      "# Dump network 23 Best MSE 0.013553618130873843 PCC 0.8350319274230384\n",
      "# Dump network 25 Best MSE 0.013519331296796966 PCC 0.8364950497785937\n",
      "# Dump network 28 Best MSE 0.01344603705255904 PCC 0.8372594516767982\n",
      "# Dump network 29 Best MSE 0.013425676254820598 PCC 0.8373787737383286\n",
      "# Dump network 31 Best MSE 0.013340734760463144 PCC 0.8397270671155627\n",
      "# Dump network 36 Best MSE 0.013313787375830615 PCC 0.8400073521745324\n",
      "# Dump network 37 Best MSE 0.013239508678649044 PCC 0.8406942014234197\n",
      "# Dump network 40 Best MSE 0.013110604447598493 PCC 0.8416402934280492\n",
      "# Dump network 42 Best MSE 0.013025465137472787 PCC 0.8438458817125671\n",
      "# Dump network 43 Best MSE 0.012969992875084503 PCC 0.8437406293298206\n",
      "# Dump network 48 Best MSE 0.012951502813292673 PCC 0.8448472281691225\n",
      "# Dump network 59 Best MSE 0.012898452477939757 PCC 0.8461440069589757\n",
      "# Dump network 66 Best MSE 0.012800307673189458 PCC 0.8468112224052028\n",
      "# Dump network 70 Best MSE 0.012740513324343112 PCC 0.848312803472872\n",
      "# Dump network 80 Best MSE 0.012736893096197164 PCC 0.8486700228603726\n",
      "# Dump network 86 Best MSE 0.012705412331235677 PCC 0.8491326591048615\n",
      "<class 'list'> <class 'numpy.float64'> <class 'list'> <class 'numpy.float64'>\n"
     ]
    }
   ],
   "source": [
    "# seed for this run\n",
    "np.random.seed(1)\n",
    "\n",
    "# create network\n",
    "input_layer_dim = 180\n",
    "hidden_layer_dim = 5\n",
    "output_layer_dim = 1\n",
    "\n",
    "w_h, w_o, X = feed_forward_network(input_layer_dim, hidden_layer_dim, output_layer_dim)\n",
    "\n",
    "# create backpropagation matrices\n",
    "dj_dw_h = np.zeros(shape=w_h.shape)\n",
    "dj_dw_o = np.zeros(shape=w_o.shape)\n",
    "\n",
    "\n",
    "# training epochs\n",
    "epochs = 300\n",
    "\n",
    "# learning rate\n",
    "epsilon = 0.05\n",
    "\n",
    "# data for plotting\n",
    "train_error = []\n",
    "train_perf = []\n",
    "eval_error = []\n",
    "eval_perf = []\n",
    "\n",
    "# early stopping\n",
    "early_stopping = True\n",
    "best_error = np.inf\n",
    "\n",
    "# define filename for synaps\n",
    "synfile_name = \"testrun_A0201_300.syn\"\n",
    "\n",
    "#############\n",
    "# MAIN LOOP #\n",
    "#############\n",
    "\n",
    "# for each epoch\n",
    "for e in range(0, epochs):\n",
    "    \n",
    "    ############\n",
    "    # TRAINING #\n",
    "    ############\n",
    "    \n",
    "    train_error_acum = 0\n",
    "    y_preds_train = []\n",
    "    \n",
    "    # shuffle input\n",
    "    randomize = np.arange(len(x_train))\n",
    "    np.random.shuffle(randomize)\n",
    "    x_train, y_train = x_train[randomize], y_train[randomize]\n",
    "    \n",
    "    # loop\n",
    "    for i in range(0, len(x_train)):        \n",
    "        \n",
    "        # fetch training point\n",
    "        #x = x_train[i]\n",
    "        X[0] = x_train[i]\n",
    "        y = y_train[i]\n",
    "        \n",
    "        # forward propagation\n",
    "        #X = forward(X, w_h, w_o)\n",
    "        forward(X, w_h, w_o)\n",
    "        y_pred = X[2][0]\n",
    "        y_preds_train.append(y_pred)\n",
    "        \n",
    "        # back propagation\n",
    "        # dj_dw_h = dE/dv, v is weight between input and hidden layer\n",
    "        # dj_dw_o = dE/dw, wis weight between hidden and output layer\n",
    "        back_prop(X, y, w_h, w_o, dj_dw_h, dj_dw_o)\n",
    "        \n",
    "        # update weights & biases\n",
    "        w_h -= epsilon * dj_dw_h\n",
    "        w_o -= epsilon * dj_dw_o\n",
    "    \n",
    "        # store training error\n",
    "        train_error_acum += error(y, y_pred)\n",
    "\n",
    "    # store training performance\n",
    "    train_pcc = pearsonr(y_train, np.asarray(y_preds_train))[0]\n",
    "    train_perf.append(train_pcc)\n",
    "\n",
    "    # store mean training error\n",
    "    mean_train_error = train_error_acum/len(x_train)\n",
    "    train_error.append(mean_train_error)\n",
    "\n",
    "    ##############\n",
    "    # EVALUATION #\n",
    "    ##############\n",
    "    \n",
    "    eval_error_acum = 0\n",
    "    y_preds_eval = []\n",
    "    \n",
    "    # loop\n",
    "    for i in range(0, len(x_eval)):        \n",
    "        \n",
    "        # fetch training point\n",
    "        x = x_eval[i]\n",
    "        y = y_eval[i]\n",
    "        \n",
    "        X[0] = x\n",
    "        \n",
    "        # forward propagation\n",
    "        forward(X, w_h, w_o)\n",
    "        y_pred = X[2][0]\n",
    "        y_preds_eval.append(y_pred)\n",
    "        \n",
    "        # store evaluation error\n",
    "        eval_error_acum += error(y, y_pred)\n",
    "    \n",
    "    # store training performance\n",
    "    eval_pcc = pearsonr(y_eval, np.asarray(y_preds_eval))[0]\n",
    "    eval_perf.append(eval_pcc)\n",
    "    \n",
    "    # store mean evaluation error\n",
    "    mean_eval_error = eval_error_acum/len(x_eval)\n",
    "    eval_error.append(mean_eval_error)\n",
    "    \n",
    "    # early stopping\n",
    "    if early_stopping:\n",
    "        \n",
    "        if mean_eval_error < best_error:\n",
    "            \n",
    "            best_error = mean_eval_error\n",
    "            best_pcc = eval_pcc\n",
    "            \n",
    "            print(\"# Dump network\", e, \"Best MSE\", best_error, \"PCC\", eval_pcc)\n",
    "            \n",
    "            save_network(synfile_name, w_h, w_o, train_pcc, mean_train_error, best_pcc, best_error, e)         \n",
    "            \n",
    "    \n",
    "    # # print\n",
    "    # print([e,epochs], \\\n",
    "    #       \"Train Error:\", round(mean_train_error, 4), \"|\", \\\n",
    "    #       \"Train Perf:\", round(train_pcc, 4), \"|\", \\\n",
    "    #       \"Eval Error:\", round(mean_eval_error, 4), \"|\", \\\n",
    "    #       \"Eval Perf:\", round(eval_pcc, 4))\n",
    "\n",
    "    # # print\n",
    "    # print([e,epochs], \\\n",
    "    #       \"Train Error:\", train_error, \"|\", \\\n",
    "    #       \"Train Perf:\", round(train_pcc, 4), \"|\", \\\n",
    "    #       \"Eval Error:\", eval_error, \"|\", \\\n",
    "    #       \"Eval Perf:\", round(eval_pcc, 4))\n",
    "\n",
    "print(type(train_error), type(mean_train_error), type(eval_error), type(mean_eval_error))\n",
    "         "
   ]
  },
  {
   "cell_type": "markdown",
   "metadata": {
    "colab_type": "text",
    "id": "A1q_7Jo9725c"
   },
   "source": [
    "### Performance Report"
   ]
  },
  {
   "cell_type": "code",
   "execution_count": 204,
   "metadata": {
    "colab": {
     "base_uri": "https://localhost:8080/",
     "height": 329
    },
    "colab_type": "code",
    "id": "ZDA4O42q4YRW",
    "outputId": "4505d46c-cd06-4776-a804-cfcd7c18e327"
   },
   "outputs": [
    {
     "data": {
      "image/png": "[encoded data removed]",
      "text/plain": [
       "<Figure size 1050x350 with 2 Axes>"
      ]
     },
     "metadata": {},
     "output_type": "display_data"
    }
   ],
   "source": [
    "fig = plt.figure(figsize=(15, 5), dpi = 70)\n",
    "\n",
    "x = np.arange(0, epochs)\n",
    "\n",
    "# error subplot\n",
    "plt.subplot(1, 2, 1)\n",
    "plt.plot(x, train_error, label=\"Training Set\")\n",
    "plt.plot(x, eval_error, label=\"Evaluation Set\")\n",
    "plt.ylabel(\"Error\", fontsize=10);\n",
    "plt.xlabel(\"Epochs\", fontsize=10);\n",
    "plt.legend(loc='upper right');\n",
    "\n",
    "# performance subplot\n",
    "plt.subplot(1, 2, 2)\n",
    "plt.plot(x, train_perf, label=\"Training Set\")\n",
    "plt.plot(x, eval_perf, label=\"Evaluation Set\")\n",
    "plt.ylabel(\"Performance (PCC)\", fontsize=10);\n",
    "plt.xlabel(\"Epochs\", fontsize=10);\n",
    "plt.legend(loc='lower right');"
   ]
  },
  {
   "cell_type": "markdown",
   "metadata": {},
   "source": [
    "What is the training and evaluation performances of the network (in terms of the Pearson's correlation)? Do the same thing using blosum encoding. Are there any striking differences in the course of the training for the two encoding schemes? Can you understand this difference?\n",
    "- The PCC score is higher with the BLOSUM encoding. This could be because of the more "
   ]
  },
  {
   "cell_type": "code",
   "execution_count": null,
   "metadata": {
    "collapsed": true
   },
   "outputs": [],
   "source": []
  }
 ],
 "metadata": {
  "colab": {
   "collapsed_sections": [],
   "name": "neural_networks_v8_MN.ipynb",
   "provenance": [],
   "version": "0.3.2"
  },
  "kernelspec": {
   "display_name": "algo",
   "language": "python",
   "name": "python3"
  },
  "language_info": {
   "codemirror_mode": {
    "name": "ipython",
    "version": 3
   },
   "file_extension": ".py",
   "mimetype": "text/x-python",
   "name": "python",
   "nbconvert_exporter": "python",
   "pygments_lexer": "ipython3",
   "version": "3.9.13"
  }
 },
 "nbformat": 4,
 "nbformat_minor": 1
}

{
 "cells": [
  {
   "cell_type": "markdown",
   "id": "f79d7ace",
   "metadata": {},
   "source": [
    "# Get binders \n",
    "Script to sort data out and save files only containing binders"
   ]
  },
  {
   "cell_type": "code",
   "execution_count": 9,
   "id": "e6051042",
   "metadata": {},
   "outputs": [
    {
     "name": "stdout",
     "output_type": "stream",
     "text": [
      "Number of strong binders (< 0.426 nM): 1181\n"
     ]
    }
   ],
   "source": [
    "file_path = \"/Users/mathildedue/Library/CloudStorage/OneDrive-DanmarksTekniskeUniversitet/master_bioinformatics/1.semester/22125_algorithms_in_bioinformatics/BioAlgoProject2025/data/AllFiles/A0201/A0201.dat\"\n",
    "threshold_nM = 0.426\n",
    "bind_count = 0\n",
    "\n",
    "with open(file_path, \"r\") as file:\n",
    "    for line in file:\n",
    "        parts = line.strip().split()\n",
    "        if len(parts) == 3:\n",
    "            try:\n",
    "                value = float(parts[1])\n",
    "                if value > threshold_nM:\n",
    "                    bind_count += 1\n",
    "            except ValueError:\n",
    "                continue\n",
    "\n",
    "print(f\"Number of strong binders (< {threshold_nM} nM): {bind_count}\")"
   ]
  }
 ],
 "metadata": {
  "kernelspec": {
   "display_name": "algo",
   "language": "python",
   "name": "python3"
  },
  "language_info": {
   "codemirror_mode": {
    "name": "ipython",
    "version": 3
   },
   "file_extension": ".py",
   "mimetype": "text/x-python",
   "name": "python",
   "nbconvert_exporter": "python",
   "pygments_lexer": "ipython3",
   "version": "3.9.21"
  }
 },
 "nbformat": 4,
 "nbformat_minor": 5
}

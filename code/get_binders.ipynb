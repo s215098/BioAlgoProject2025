{
 "cells": [
  {
   "cell_type": "markdown",
   "id": "f79d7ace",
   "metadata": {},
   "source": [
    "# Get binders \n",
    "Script to sort data out and save files only containing binders"
   ]
  },
  {
   "cell_type": "markdown",
   "id": "83b6dbfe",
   "metadata": {},
   "source": []
  },
  {
   "cell_type": "code",
   "execution_count": null,
   "id": "e6051042",
   "metadata": {
    "vscode": {
     "languageId": "plaintext"
    }
   },
   "outputs": [],
   "source": []
  }
 ],
 "metadata": {
  "language_info": {
   "name": "python"
  }
 },
 "nbformat": 4,
 "nbformat_minor": 5
}

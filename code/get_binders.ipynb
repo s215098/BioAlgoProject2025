{
 "cells": [
  {
   "cell_type": "markdown",
   "id": "f79d7ace",
   "metadata": {},
   "source": [
    "# Get binders \n",
    "Script to sort data out and save files only containing binders"
   ]
  },
  {
   "cell_type": "code",
   "execution_count": 14,
   "id": "e6051042",
   "metadata": {},
   "outputs": [
    {
     "name": "stdout",
     "output_type": "stream",
     "text": [
      "Number of strong binders (< 0.426 nM): 11\n"
     ]
    }
   ],
   "source": [
    "HLA = \"B5701\"\n",
    "file_path = \"/Users/mathildedue/Library/CloudStorage/OneDrive-DanmarksTekniskeUniversitet/master_bioinformatics/1.semester/22125_algorithms_in_bioinformatics/BioAlgoProject2025/data/AllFiles/\" + HLA + \"/\" + HLA + \".dat\"\n",
    "threshold_nM = 0.426\n",
    "bind_count = 0\n",
    "\n",
    "with open(file_path, \"r\") as file:\n",
    "    for line in file:\n",
    "        parts = line.strip().split()\n",
    "        if len(parts) == 3:\n",
    "            try:\n",
    "                value = float(parts[1])\n",
    "                if value > threshold_nM:\n",
    "                    bind_count += 1\n",
    "            except ValueError:\n",
    "                continue\n",
    "\n",
    "print(f\"Number of strong binders (< {threshold_nM} nM): {bind_count}\")"
   ]
  },
  {
   "cell_type": "code",
   "execution_count": 15,
   "id": "845221a6",
   "metadata": {},
   "outputs": [
    {
     "name": "stdout",
     "output_type": "stream",
     "text": [
      "Number of strong binders (> 0.426 normalized score): 11\n",
      "Saved to: /Users/mathildedue/Library/CloudStorage/OneDrive-DanmarksTekniskeUniversitet/master_bioinformatics/1.semester/22125_algorithms_in_bioinformatics/BioAlgoProject2025/data/AllFiles/B5701/B5701_binds.dat\n"
     ]
    }
   ],
   "source": [
    "HLA = \"B5701\"\n",
    "file_path = \"/Users/mathildedue/Library/CloudStorage/OneDrive-DanmarksTekniskeUniversitet/master_bioinformatics/1.semester/22125_algorithms_in_bioinformatics/BioAlgoProject2025/data/AllFiles/\" + HLA + \"/\" + HLA + \".dat\"\n",
    "output_path = \"/Users/mathildedue/Library/CloudStorage/OneDrive-DanmarksTekniskeUniversitet/master_bioinformatics/1.semester/22125_algorithms_in_bioinformatics/BioAlgoProject2025/data/AllFiles/\" + HLA + \"/\" + HLA + \"_binds.dat\"\n",
    "threshold_nM = 0.426\n",
    "bind_count = 0\n",
    "with open(file_path, \"r\") as infile, open(output_path, \"w\") as outfile:\n",
    "    for line in infile:\n",
    "        parts = line.strip().split()\n",
    "        if len(parts) == 3:\n",
    "            try:\n",
    "                value = float(parts[1])\n",
    "                if value > threshold_nM:\n",
    "                    outfile.write(line)\n",
    "                    bind_count += 1\n",
    "            except ValueError:\n",
    "                continue\n",
    "\n",
    "print(f\"Number of strong binders (> {threshold_nM} normalized score): {bind_count}\")\n",
    "print(f\"Saved to: {output_path}\")"
   ]
  }
 ],
 "metadata": {
  "kernelspec": {
   "display_name": "algo",
   "language": "python",
   "name": "python3"
  },
  "language_info": {
   "codemirror_mode": {
    "name": "ipython",
    "version": 3
   },
   "file_extension": ".py",
   "mimetype": "text/x-python",
   "name": "python",
   "nbconvert_exporter": "python",
   "pygments_lexer": "ipython3",
   "version": "3.9.21"
  }
 },
 "nbformat": 4,
 "nbformat_minor": 5
}

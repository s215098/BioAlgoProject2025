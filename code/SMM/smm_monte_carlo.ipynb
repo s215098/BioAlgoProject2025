{
 "cells": [
  {
   "cell_type": "markdown",
   "metadata": {
    "colab_type": "text",
    "id": "5UIBMCb7lKyp"
   },
   "source": [
    "# SMM with Monte Carlo"
   ]
  },
  {
   "cell_type": "markdown",
   "metadata": {
    "colab_type": "text",
    "id": "CDtYAMOqlOe1"
   },
   "source": [
    "## Python Imports"
   ]
  },
  {
   "cell_type": "code",
   "execution_count": null,
   "metadata": {
    "colab": {},
    "colab_type": "code",
    "id": "IlFGxFZ997P4"
   },
   "outputs": [],
   "source": [
    "import numpy as np\n",
    "import random\n",
    "from scipy.stats import pearsonr\n",
    "import matplotlib.pyplot as plt\n",
    "from argparse import ArgumentParser"
   ]
  },
  {
   "cell_type": "markdown",
   "metadata": {},
   "source": [
    "## Arguments from command line\n"
   ]
  },
  {
   "cell_type": "code",
   "execution_count": null,
   "metadata": {},
   "outputs": [],
   "source": [
    "parser = ArgumentParser(description=\"SMM Monte Carlo\")\n",
    "parser.add_argument(\"-l\", action=\"store\", dest=\"LAMB\", default=1, type=float, help=\"Lambda\")\n",
    "parser.add_argument(\"-t\", action=\"store\", dest=\"TRAINING_FILE\", type=str, help=\"File with training data\")\n",
    "parser.add_argument(\"-e\", action=\"store\", dest=\"EVALUATION_FILE\", type=str, help=\"File with evaluation data\")\n",
    "parser.add_argument(\"-i\", action=\"store\", dest=\"ITERS\", default=100, type=int, help=\"Number of epochs to train\")\n",
    "parser.add_argument(\"-s\", action=\"store\", dest=\"SEED\", default=1, type=int, help=\"Seed for random numbers\")\n",
    "parser.add_argument(\"-Ts\", action=\"store\", dest=\"T_I\", default=0.01, type=float, help=\"Start temperature\")\n",
    "parser.add_argument(\"-Te\", action=\"store\", dest=\"T_F\", default=0.000001, type=float, help=\"End temperature\")\n",
    "parser.add_argument(\"-nT\", action=\"store\", dest=\"T_STEPS\", default=10, type=int, help=\"Number of temperature steps\")\n",
    "\n",
    "args = parser.parse_args()\n",
    "lamb = args.LAMB\n",
    "training_file = args.TRAINING_FILE\n",
    "evaluation_file = args.EVALUATION_FILE\n",
    "iters = args.ITERS\n",
    "seed = args.SEED\n",
    "T_i = args.T_I\n",
    "T_f = args.T_F\n",
    "T_steps = args.T_STEPS\n"
   ]
  },
  {
   "cell_type": "markdown",
   "metadata": {
    "colab_type": "text",
    "id": "7kEGGMRKQBdl"
   },
   "source": [
    "## Data Imports"
   ]
  },
  {
   "cell_type": "markdown",
   "metadata": {},
   "source": [
    "## DEFINE THE PATH TO YOUR COURSE DIRECTORY"
   ]
  },
  {
   "cell_type": "code",
   "execution_count": 2,
   "metadata": {},
   "outputs": [],
   "source": [
    "data_dir = \"../../data/\""
   ]
  },
  {
   "cell_type": "markdown",
   "metadata": {},
   "source": [
    "## Define run time parameters"
   ]
  },
  {
   "cell_type": "code",
   "execution_count": null,
   "metadata": {},
   "outputs": [],
   "source": [
    "# temperature vector\n",
    "#T_i = 0.01\n",
    "#T_f = 0.000001\n",
    "#T_steps = 10\n",
    "T_delta = (T_f - T_i) / T_steps\n",
    "T = np.linspace(T_i,T_f,T_steps )\n",
    "\n",
    "# iterations\n",
    "#iters = 1000\n",
    "\n",
    "# regularization lambda\n",
    "#lamb = 1\n",
    "#lamb = 0.00001\n",
    "#lamb = 10"
   ]
  },
  {
   "cell_type": "markdown",
   "metadata": {
    "colab_type": "text",
    "id": "ruHmbS08rNiV"
   },
   "source": [
    "### Training Data"
   ]
  },
  {
   "cell_type": "code",
   "execution_count": null,
   "metadata": {
    "colab": {},
    "colab_type": "code",
    "collapsed": false,
    "id": "U8Pb2U3lZ7Kz",
    "jupyter": {
     "outputs_hidden": false
    }
   },
   "outputs": [],
   "source": [
    "#training_file = data_dir + \"SMM/A0201_training\"\n",
    "#training_file = data_dir + \"SMM/A2403_training\"\n",
    "training = np.loadtxt(training_file, dtype=str)"
   ]
  },
  {
   "cell_type": "markdown",
   "metadata": {
    "colab_type": "text",
    "id": "ngqPG0u_rVjA"
   },
   "source": [
    "### Evaluation Data"
   ]
  },
  {
   "cell_type": "code",
   "execution_count": null,
   "metadata": {
    "colab": {},
    "colab_type": "code",
    "collapsed": false,
    "id": "8iJSbsVfrXok",
    "jupyter": {
     "outputs_hidden": false
    }
   },
   "outputs": [],
   "source": [
    "#evaluation_file = data_dir + \"SMM/A0201_evaluation\"\n",
    "#evaluation_file = data_dir + \"SMM/A2403_evaluation\"\n",
    "evaluation = np.loadtxt(evaluation_file, dtype=str)"
   ]
  },
  {
   "cell_type": "markdown",
   "metadata": {
    "colab_type": "text",
    "id": "eWhwwROurZQf"
   },
   "source": [
    "### Alphabet"
   ]
  },
  {
   "cell_type": "code",
   "execution_count": 6,
   "metadata": {
    "colab": {},
    "colab_type": "code",
    "collapsed": false,
    "id": "gY7IAVQNre7k",
    "jupyter": {
     "outputs_hidden": false
    }
   },
   "outputs": [],
   "source": [
    "alphabet_file = data_dir + \"Matrices/alphabet\"\n",
    "alphabet = np.loadtxt(alphabet_file, dtype=str)"
   ]
  },
  {
   "cell_type": "markdown",
   "metadata": {
    "colab_type": "text",
    "id": "8jqnZ6_zrgKY"
   },
   "source": [
    "### Sparse Encoding Scheme"
   ]
  },
  {
   "cell_type": "code",
   "execution_count": 7,
   "metadata": {
    "colab": {},
    "colab_type": "code",
    "collapsed": false,
    "id": "ecXsAxeMdYOX",
    "jupyter": {
     "outputs_hidden": false
    }
   },
   "outputs": [],
   "source": [
    "sparse_file = data_dir + \"Matrices/sparse\"\n",
    "_sparse = np.loadtxt(sparse_file, dtype=float)\n",
    "sparse = {}\n",
    "\n",
    "for i, letter_1 in enumerate(alphabet):\n",
    "    \n",
    "    sparse[letter_1] = {}\n",
    "\n",
    "    for j, letter_2 in enumerate(alphabet):\n",
    "        \n",
    "        sparse[letter_1][letter_2] = _sparse[i, j]"
   ]
  },
  {
   "cell_type": "markdown",
   "metadata": {
    "colab_type": "text",
    "id": "6br1nSa-lZ-Q"
   },
   "source": [
    "## Peptide Encoding"
   ]
  },
  {
   "cell_type": "code",
   "execution_count": 8,
   "metadata": {
    "colab": {},
    "colab_type": "code",
    "id": "8UhmQwUfqNzK"
   },
   "outputs": [],
   "source": [
    "def encode(peptides, encoding_scheme, alphabet):\n",
    "    \n",
    "    encoded_peptides = []\n",
    "\n",
    "    for peptide in peptides:\n",
    "\n",
    "        encoded_peptide = []\n",
    "\n",
    "        for peptide_letter in peptide:\n",
    "\n",
    "            for alphabet_letter in alphabet:\n",
    "\n",
    "                encoded_peptide.append(encoding_scheme[peptide_letter][alphabet_letter])\n",
    "\n",
    "        encoded_peptides.append(encoded_peptide)\n",
    "        \n",
    "    return np.array(encoded_peptides)"
   ]
  },
  {
   "cell_type": "markdown",
   "metadata": {
    "colab_type": "text",
    "id": "hwlfbmtirn1k"
   },
   "source": [
    "## Error Function"
   ]
  },
  {
   "cell_type": "code",
   "execution_count": 9,
   "metadata": {
    "colab": {},
    "colab_type": "code",
    "collapsed": false,
    "id": "H9eFThSIrnVy",
    "jupyter": {
     "outputs_hidden": false
    }
   },
   "outputs": [],
   "source": [
    "def cumulative_error(peptides, y, lamb, weights):\n",
    "\n",
    "    error = 0\n",
    "    \n",
    "    for i in range(0, len(peptides)):\n",
    "        \n",
    "        # get peptide\n",
    "        peptide = peptides[i]\n",
    "\n",
    "        # get target prediction value\n",
    "        y_target = y[i]\n",
    "        \n",
    "        # get prediction\n",
    "        y_pred = np.dot(peptide, weights)\n",
    "            \n",
    "        # calculate error\n",
    "        error += 1.0/2 * (y_pred - y_target)**2 \n",
    "        \n",
    "    gerror = error + lamb*np.dot(weights, weights)\n",
    "    error /= len(peptides)\n",
    "        \n",
    "    return gerror, error"
   ]
  },
  {
   "cell_type": "markdown",
   "metadata": {},
   "source": [
    "## Predict value for a peptide list"
   ]
  },
  {
   "cell_type": "code",
   "execution_count": 10,
   "metadata": {},
   "outputs": [],
   "source": [
    "def predict(peptides, weights):\n",
    "\n",
    "    pred = []\n",
    "    \n",
    "    for i in range(0, len(peptides)):\n",
    "        \n",
    "        # get peptide\n",
    "        peptide = peptides[i]\n",
    "        \n",
    "        # get prediction\n",
    "        y_pred = np.dot(peptide, weights)\n",
    "        \n",
    "        pred.append(y_pred)\n",
    "        \n",
    "    return pred"
   ]
  },
  {
   "cell_type": "markdown",
   "metadata": {},
   "source": [
    "## Calculate MSE between two vectors"
   ]
  },
  {
   "cell_type": "code",
   "execution_count": 11,
   "metadata": {
    "collapsed": false,
    "jupyter": {
     "outputs_hidden": false
    }
   },
   "outputs": [],
   "source": [
    "def cal_mse(vec1, vec2):\n",
    "    \n",
    "    mse = 0\n",
    "    \n",
    "    for i in range(0, len(vec1)):\n",
    "        mse += (vec1[i] - vec2[i])**2\n",
    "        \n",
    "    mse /= len(vec1)\n",
    "    \n",
    "    return( mse)\n",
    "    "
   ]
  },
  {
   "cell_type": "markdown",
   "metadata": {
    "colab_type": "text",
    "id": "052Q3YfllfhX"
   },
   "source": [
    "## Main Loop"
   ]
  },
  {
   "cell_type": "code",
   "execution_count": null,
   "metadata": {
    "colab": {
     "base_uri": "https://localhost:8080/",
     "height": 153
    },
    "colab_type": "code",
    "collapsed": false,
    "id": "EcHQYE2sja-y",
    "jupyter": {
     "outputs_hidden": false
    },
    "outputId": "bb5d7fd3-1934-48cc-953d-1cd2eac0672f"
   },
   "outputs": [
    {
     "name": "stdout",
     "output_type": "stream",
     "text": [
      "t: 0.01 141.55904520227512 0.1736306936100001 0.11114574132429532 0.5382900314736552 0.1290478128690707 0.5049749212914378\n",
      "t: 0.008889000000000001 112.05452366351889 0.2018146313093114 0.08706721266313165 0.6032274419039648 0.10248716308120581 0.579547615366033\n",
      "t: 0.007778 111.15933739803532 0.15702848697222996 0.0863698224032646 0.602918843859793 0.0945539358467096 0.5859994561409415\n",
      "t: 0.006667 91.45392905693248 0.14933252866144253 0.06844181407698076 0.6744872499793376 0.08047295160922567 0.6469564619384026\n",
      "t: 0.005556 96.97864817708937 0.14201374888343848 0.07359802878816903 0.658163975916892 0.0863338523785761 0.614697295999147\n",
      "t: 0.004445 82.24478660736284 0.13505366213714728 0.06344797176902814 0.675924922462637 0.07636249069866402 0.6440728327547934\n",
      "t: 0.003334 66.43798029885873 0.10508292727771375 0.05058302544166481 0.7372842581006575 0.057482134854081546 0.7077446021164766\n",
      "t: 0.002223 58.54342313449924 0.09993281825547111 0.04483012385526473 0.7516247201558481 0.053242928685040346 0.718910966163379\n",
      "t: 0.0011120000000000001 50.51794171060718 0.07775600385225125 0.03879269876185462 0.7766005281779189 0.04431870183296158 0.7493748439152947\n",
      "t: 1e-06 41.18503015966914 0.027111842131612565 0.03162742619684231 0.8162864980151987 0.038628616473383955 0.7758262593362653\n"
     ]
    }
   ],
   "source": [
    "# Random seed\n",
    "np.random.seed(seed)\n",
    "\n",
    "# peptides\n",
    "peptides = training[:, 0]\n",
    "peptides = encode(peptides, sparse, alphabet)\n",
    "\n",
    "# target values\n",
    "y = np.array(training[:, 1], dtype=float)\n",
    "\n",
    "#evaluation peptides\n",
    "evaluation_peptides = evaluation[:, 0]\n",
    "evaluation_peptides = encode(evaluation_peptides, sparse, alphabet)\n",
    "\n",
    "#evaluation targets\n",
    "evaluation_targets = np.array(evaluation[:, 1], dtype=float)\n",
    "\n",
    "# weights\n",
    "input_dim  = len(peptides[0])\n",
    "output_dim = 1\n",
    "w_bound = 0.1\n",
    "weights = np.random.uniform(-w_bound, w_bound, size=input_dim)\n",
    "\n",
    "# error plots\n",
    "gerror_plot = []\n",
    "mse_plot = []\n",
    "train_mse_plot = []\n",
    "eval_mse_plot = []\n",
    "train_pcc_plot = []\n",
    "eval_pcc_plot = []\n",
    "\n",
    "perturbation_value = 0.1\n",
    "# The scale variable defines the scale of the changes in de. This is defined empirically for each problem investigated\n",
    "scale = 1.0/100\n",
    "\n",
    "number_of_tries = 0\n",
    "number_of_accepted = 0\n",
    "        \n",
    "# calculate initial error\n",
    "gerror_initial, mse = cumulative_error(peptides, y, lamb, weights)\n",
    "        \n",
    "# for each temperature\n",
    "for t in T:\n",
    "  \n",
    "    # for each iteration\n",
    "    for i in range(0, iters):\n",
    "        \n",
    "        \n",
    "        # get 2 random weight indexes\n",
    "        weight_index_1 = np.random.randint(len(weights))\n",
    "        weight_index_2 = np.random.randint(len(weights))\n",
    "    \n",
    "        # ensure they are different\n",
    "        while weight_index_1 == weight_index_2:\n",
    "            weight_index_2 = np.random.randint(len(weights))\n",
    "        \n",
    "        # store original weight values\n",
    "        original_weight_1 = weights[weight_index_1]    #XX\n",
    "        original_weight_2 = weights[weight_index_2]    #XX\n",
    "       \n",
    "    \n",
    "        # apply random perturbation to both weights\n",
    "        perturbation = np.random.uniform(0, perturbation_value)\n",
    "        weights[weight_index_1] += perturbation    #XX\n",
    "        weights[weight_index_2] -= perturbation    #XX\n",
    "        \n",
    "        \n",
    "        # calculate new error\n",
    "        gerror_new, mse = cumulative_error(peptides, y, lamb, weights) \n",
    "            \n",
    "        # compute error difference\n",
    "        de = (gerror_new - gerror_initial) * scale    #XX \n",
    "\n",
    "        # compute acceptance probability\n",
    "        if ( de < 0): \n",
    "            p = 1\n",
    "        else:\n",
    "            p = np.exp(-de/t)    #XX\n",
    "            \n",
    "        # throw coin\n",
    "        coin = np.random.uniform(0.0, 1.0, 1)[0] \n",
    "        \n",
    "        # weight change is accepted\n",
    "        if ( coin < p ):\n",
    "            gerror_initial = gerror_new\n",
    "            gerror_plot.append(gerror_new)\n",
    "            mse_plot.append(mse)\n",
    "            number_of_accepted += 1\n",
    "        # weight change is declined, restore previous weights\n",
    "        else: \n",
    "            weights[weight_index_1] = original_weight_1 \n",
    "            weights[weight_index_2] = original_weight_2\n",
    "\n",
    "        number_of_tries += 1\n",
    "        \n",
    "        # define size of move so that on avarage 50% are accepted\n",
    "        if number_of_tries == 100:\n",
    "            \n",
    "            if float(number_of_accepted)/number_of_tries > 0.5:\n",
    "                perturbation_value *= 1.1\n",
    "            else: \n",
    "                perturbation_value *= 0.9\n",
    "            \n",
    "            number_of_tries = 0\n",
    "            number_of_accepted = 0\n",
    "            \n",
    "        # predict on training data\n",
    "        train_pred = predict(peptides, weights)\n",
    "        train_mse = cal_mse(y, train_pred)\n",
    "        train_pcc = pearsonr(y, train_pred)[0]\n",
    "        train_mse_plot.append(train_mse)\n",
    "        train_pcc_plot.append(train_pcc)\n",
    "        \n",
    "        # predict on evaluation data\n",
    "        eval_pred = predict(evaluation_peptides, weights)\n",
    "        eval_mse = cal_mse(evaluation_targets, eval_pred)\n",
    "        eval_pcc = pearsonr(evaluation_targets, eval_pred)[0]\n",
    "        eval_mse_plot.append(eval_mse)\n",
    "        eval_pcc_plot.append(eval_pcc)    \n",
    "        \n",
    "    #print (\"t:\", t, gerror_new, perturbation_value, train_mse, train_pcc, eval_mse, eval_pcc)"
   ]
  },
  {
   "cell_type": "markdown",
   "metadata": {
    "colab_type": "text",
    "id": "NUFLG7O0sbXX"
   },
   "source": [
    "## Error Plot"
   ]
  },
  {
   "cell_type": "code",
   "execution_count": 19,
   "metadata": {
    "colab": {
     "base_uri": "https://localhost:8080/",
     "height": 286
    },
    "colab_type": "code",
    "collapsed": false,
    "id": "Nca2qMKSOjGP",
    "jupyter": {
     "outputs_hidden": false
    },
    "outputId": "3b7fe5cf-5b93-490d-dc3b-bd4e8a4c8e9e"
   },
   "outputs": [
    {
     "data": {
      "image/png": "[encoded data removed]",
      "text/plain": [
       "<Figure size 800x800 with 4 Axes>"
      ]
     },
     "metadata": {},
     "output_type": "display_data"
    }
   ],
   "source": [
    "fig = plt.figure(figsize=(10, 10), dpi= 80)\n",
    "\n",
    "x = np.arange(0, len(gerror_plot))\n",
    "\n",
    "plt.subplot(2, 2, 1)\n",
    "plt.plot(x, gerror_plot)\n",
    "plt.ylabel(\"Global Error\", fontsize=10);\n",
    "plt.xlabel(\"Iterations\", fontsize=10);\n",
    "\n",
    "plt.subplot(2, 2, 2)\n",
    "plt.plot(x, mse_plot)\n",
    "plt.ylabel(\"MSE\", fontsize=10);\n",
    "plt.xlabel(\"Iterations\", fontsize=10);\n",
    "\n",
    "\n",
    "x = np.arange(0, len(train_mse_plot))\n",
    "\n",
    "plt.subplot(2, 2, 3)\n",
    "plt.plot(x, train_mse_plot, label=\"Training Set\")\n",
    "plt.plot(x, eval_mse_plot, label=\"Evaluation Set\")\n",
    "plt.ylabel(\"Mean Squared Error\", fontsize=10);\n",
    "plt.xlabel(\"Iterations\", fontsize=10);\n",
    "plt.legend(loc='upper right');\n",
    "\n",
    "\n",
    "plt.subplot(2, 2, 4)\n",
    "plt.plot(x, train_pcc_plot, label=\"Training Set\")\n",
    "plt.plot(x, eval_pcc_plot, label=\"Evaluation Set\")\n",
    "plt.ylabel(\"Pearson Correlation\", fontsize=10);\n",
    "plt.xlabel(\"Iterations\", fontsize=10);\n",
    "plt.legend(loc='upper left');"
   ]
  },
  {
   "cell_type": "markdown",
   "metadata": {
    "colab_type": "text",
    "id": "iVqN0P7BwRHB"
   },
   "source": [
    "## Get PSSM Matrix"
   ]
  },
  {
   "cell_type": "markdown",
   "metadata": {
    "colab_type": "text",
    "id": "SYTWaLK4y1no"
   },
   "source": [
    "### Vector to Matrix"
   ]
  },
  {
   "cell_type": "code",
   "execution_count": 20,
   "metadata": {
    "colab": {},
    "colab_type": "code",
    "id": "Ne0wfjf1wh24"
   },
   "outputs": [],
   "source": [
    "# our matrices are vectors of dictionaries\n",
    "def vector_to_matrix(vector, alphabet):\n",
    "    \n",
    "    rows = int(len(vector)/len(alphabet))\n",
    "    \n",
    "    matrix = [0] * rows\n",
    "    \n",
    "    offset = 0\n",
    "    \n",
    "    for i in range(0, rows):\n",
    "        \n",
    "        matrix[i] = {}\n",
    "        \n",
    "        for j in range(0, 20):\n",
    "            \n",
    "            matrix[i][alphabet[j]] = vector[j+offset] \n",
    "        \n",
    "        offset += len(alphabet)\n",
    "\n",
    "    return matrix"
   ]
  },
  {
   "cell_type": "markdown",
   "metadata": {
    "colab_type": "text",
    "id": "TJkcodZLzBSi"
   },
   "source": [
    "### Matrix to Psi-Blast\n",
    "\n"
   ]
  },
  {
   "cell_type": "code",
   "execution_count": 21,
   "metadata": {
    "colab": {},
    "colab_type": "code",
    "id": "tsjOJYzWwULP"
   },
   "outputs": [],
   "source": [
    "def to_psi_blast(matrix):\n",
    "\n",
    "    # print to user\n",
    "    \n",
    "    header = [\"\", \"A\", \"R\", \"N\", \"D\", \"C\", \"Q\", \"E\", \"G\", \"H\", \"I\", \"L\", \"K\", \"M\", \"F\", \"P\", \"S\", \"T\", \"W\", \"Y\", \"V\"]\n",
    "\n",
    "    print('{:>4} {:>8} {:>8} {:>8} {:>8} {:>8} {:>8} {:>8} {:>8} {:>8} {:>8} {:>8} {:>8} {:>8} {:>8} {:>8} {:>8} {:>8} {:>8} {:>8} {:>8}'.format(*header)) \n",
    "\n",
    "    letter_order = [\"A\", \"R\", \"N\", \"D\", \"C\", \"Q\", \"E\", \"G\", \"H\", \"I\", \"L\", \"K\", \"M\", \"F\", \"P\", \"S\", \"T\", \"W\", \"Y\", \"V\"]\n",
    "\n",
    "    for i, row in enumerate(matrix):\n",
    "\n",
    "        scores = []\n",
    "\n",
    "        scores.append(str(i+1) + \" A\")\n",
    "\n",
    "        for letter in letter_order:\n",
    "\n",
    "            score = row[letter]\n",
    "\n",
    "            scores.append(round(score, 4))\n",
    "\n",
    "        print('{:>4} {:>8} {:>8} {:>8} {:>8} {:>8} {:>8} {:>8} {:>8} {:>8} {:>8} {:>8} {:>8} {:>8} {:>8} {:>8} {:>8} {:>8} {:>8} {:>8} {:>8}'.format(*scores)) "
   ]
  },
  {
   "cell_type": "markdown",
   "metadata": {
    "colab_type": "text",
    "id": "dYK0BupqzEiG"
   },
   "source": [
    "### Print"
   ]
  },
  {
   "cell_type": "code",
   "execution_count": 22,
   "metadata": {
    "colab": {
     "base_uri": "https://localhost:8080/",
     "height": 187
    },
    "colab_type": "code",
    "collapsed": false,
    "id": "UIyVqHaqwrAo",
    "jupyter": {
     "outputs_hidden": false
    },
    "outputId": "f30bd0c4-8699-4b7a-b15d-1594e897982b"
   },
   "outputs": [
    {
     "name": "stdout",
     "output_type": "stream",
     "text": [
      "            A        R        N        D        C        Q        E        G        H        I        L        K        M        F        P        S        T        W        Y        V\n",
      " 1 A  -0.0185   0.0125  -0.0631  -0.2039  -0.0389  -0.0822  -0.1449  -0.0575  -0.0914  -0.0179   0.0016    0.027   0.0707   0.1603   -0.213  -0.0212  -0.0554  -0.0648   0.1089  -0.0201\n",
      " 2 A   0.1325   0.1087   0.0021  -0.2487  -0.0415   0.2137   0.0885  -0.0996   0.0231   0.2458   0.3839  -0.1658   0.3953   0.1402   0.0263   0.1684   0.1665  -0.0414   0.1172   0.1994\n",
      " 3 A   0.0038  -0.1078  -0.0356   0.0194  -0.0319   -0.065  -0.1358  -0.0844  -0.0349   0.0371   0.0307   -0.182   0.1404   0.0487  -0.0499    0.007  -0.0782  -0.0275   0.0389  -0.0619\n",
      " 4 A   0.0262  -0.0132  -0.0169   0.1022  -0.0226   0.0048   0.0765   0.0419  -0.0168  -0.0023  -0.0337     0.04   0.0318   0.0429   0.0219   0.0343     0.04   0.1013   0.0265   -0.005\n",
      " 5 A  -0.0392  -0.0245  -0.0697  -0.0093  -0.0358  -0.0741  -0.0132  -0.0311  -0.0446   0.0284  -0.0024   -0.055  -0.0222   0.0621     -0.1  -0.0481  -0.0552   0.0496   0.0792  -0.0016\n",
      " 6 A   0.0013  -0.0249   0.0611   0.0274   0.0047   0.0336   0.0056  -0.0064  -0.0082   0.1511   0.1282  -0.0694   0.1023   0.1076   0.0262   0.0449   0.0788   0.0196   0.0211   0.0845\n",
      " 7 A   0.0592  -0.0476  -0.0217   0.0074   0.0065  -0.0094   -0.011  -0.0466   0.0521   0.0942   0.0712  -0.1033   0.0439   0.2148   0.0498   0.0619     0.06   0.0809   0.1279   0.0606\n",
      " 8 A  -0.0274  -0.0321  -0.0342    -0.07  -0.0212  -0.0247   0.0387   0.0597  -0.0961  -0.0491   0.0299  -0.0194  -0.0524   0.0794   0.0196   0.0054   0.0113   0.0774   0.0746  -0.0587\n",
      " 9 A   0.0286  -0.2483  -0.2974   -0.236  -0.2968  -0.2312  -0.2075  -0.1805  -0.2365   0.0383   0.0511  -0.1542  -0.0557  -0.0935  -0.2211  -0.1838  -0.0936  -0.1529  -0.1164   0.1454\n"
     ]
    }
   ],
   "source": [
    "matrix = vector_to_matrix(weights, alphabet)\n",
    "to_psi_blast(matrix)"
   ]
  },
  {
   "cell_type": "markdown",
   "metadata": {
    "colab_type": "text",
    "id": "SXJxgKZ3sfFm"
   },
   "source": [
    "## Performance Evaluation"
   ]
  },
  {
   "cell_type": "code",
   "execution_count": 23,
   "metadata": {
    "colab": {},
    "colab_type": "code",
    "collapsed": false,
    "id": "lh7HCLo7PjKi",
    "jupyter": {
     "outputs_hidden": false
    }
   },
   "outputs": [],
   "source": [
    "evaluation_peptides = evaluation[:, 0]\n",
    "evaluation_peptides = np.array(encode(evaluation_peptides, sparse, alphabet))\n",
    "\n",
    "evaluation_targets = np.array(evaluation[:, 1], dtype=float)\n",
    "\n",
    "y_pred = []\n",
    "for i in range(0, len(evaluation_peptides)): \n",
    "    y_pred.append(np.dot(evaluation_peptides[i], weights))\n",
    "    \n",
    "y_pred = np.array(y_pred)"
   ]
  },
  {
   "cell_type": "code",
   "execution_count": null,
   "metadata": {
    "colab": {
     "base_uri": "https://localhost:8080/",
     "height": 286
    },
    "colab_type": "code",
    "collapsed": false,
    "id": "lAPfkFcCRsuc",
    "jupyter": {
     "outputs_hidden": false
    },
    "outputId": "a5ba01b5-1c92-423b-c6a8-dcef094a611e"
   },
   "outputs": [
    {
     "name": "stdout",
     "output_type": "stream",
     "text": [
      "PCC:  0.7758262593362653\n"
     ]
    },
    {
     "data": {
      "image/png": "[encoded data removed]",
      "text/plain": [
       "<Figure size 640x480 with 1 Axes>"
      ]
     },
     "metadata": {},
     "output_type": "display_data"
    }
   ],
   "source": [
    "pcc = pearsonr(evaluation_targets, np.array(y_pred))\n",
    "#print(\"PCC: \", pcc[0])\n",
    "plt.scatter(y_pred, evaluation_targets);"
   ]
  },
  {
   "cell_type": "markdown",
   "metadata": {},
   "source": []
  }
 ],
 "metadata": {
  "colab": {
   "collapsed_sections": [],
   "name": "smm_monte_carlo_v2.ipynb",
   "provenance": [],
   "version": "0.3.2"
  },
  "kernelspec": {
   "display_name": "Python (.venv)",
   "language": "python",
   "name": ".venv"
  },
  "language_info": {
   "codemirror_mode": {
    "name": "ipython",
    "version": 3
   },
   "file_extension": ".py",
   "mimetype": "text/x-python",
   "name": "python",
   "nbconvert_exporter": "python",
   "pygments_lexer": "ipython3",
   "version": "3.9.13"
  }
 },
 "nbformat": 4,
 "nbformat_minor": 4
}

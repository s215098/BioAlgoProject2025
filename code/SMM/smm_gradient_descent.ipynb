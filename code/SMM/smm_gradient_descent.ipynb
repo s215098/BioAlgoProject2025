{
 "cells": [
  {
   "cell_type": "markdown",
   "metadata": {
    "colab_type": "text",
    "id": "7kEGGMRKQBdl"
   },
   "source": [
    "# SMM with Gradient Descent"
   ]
  },
  {
   "cell_type": "markdown",
   "metadata": {
    "colab_type": "text",
    "id": "RDGR-iaV3vf1"
   },
   "source": [
    "## Python Imports"
   ]
  },
  {
   "cell_type": "code",
   "execution_count": 1,
   "metadata": {
    "colab": {},
    "colab_type": "code",
    "id": "IlFGxFZ997P4"
   },
   "outputs": [],
   "source": [
    "import numpy as np\n",
    "import random\n",
    "import copy\n",
    "from scipy.stats import pearsonr\n",
    "import matplotlib.pyplot as plt\n",
    "from argparse import ArgumentParser"
   ]
  },
  {
   "cell_type": "markdown",
   "metadata": {},
   "source": [
    "## Arguments from command line"
   ]
  },
  {
   "cell_type": "code",
   "execution_count": null,
   "metadata": {},
   "outputs": [],
   "source": [
    "'''\n",
    "parser = ArgumentParser(description=\"SMM gradient descent\")\n",
    "parser.add_argument(\"-l\", action=\"store\", dest=\"LAMB\", default=0.01, type=float, help=\"Lambda\")\n",
    "parser.add_argument(\"-t\", action=\"store\", dest=\"TRAINING_FILE\", type=str, help=\"File with training data\")\n",
    "parser.add_argument(\"-e\", action=\"store\", dest=\"EVALUATION_FILE\", type=str, help=\"File with evaluation data\")\n",
    "parser.add_argument(\"-epi\", action=\"store\", dest=\"EPSILON\", default=0.05, type=float, help=\"Epsilon\")\n",
    "parser.add_argument(\"-s\", action=\"store\", dest=\"SEED\", default=1, type=int, help=\"Seed for random numbers\")\n",
    "parser.add_argument(\"-i\", action=\"store\", dest=\"EPOCHS\", default=100, type=int, help=\"Number of epochs to train\")\n",
    "\n",
    "args = parser.parse_args()\n",
    "lamb = args.LAMB\n",
    "training_file = args.TRAINING_FILE\n",
    "evaluation_file = args.EVALUATION_FILE\n",
    "epsilon = args.EPSILON\n",
    "seed = args.SEED\n",
    "epochs = args.EPOCHS\n",
    "'''"
   ]
  },
  {
   "cell_type": "markdown",
   "metadata": {
    "colab_type": "text",
    "id": "L4zgNC-G3xwY"
   },
   "source": [
    "## Data Imports"
   ]
  },
  {
   "cell_type": "markdown",
   "metadata": {},
   "source": [
    "## DEFINE THE PATH TO YOUR COURSE DIRECTORY"
   ]
  },
  {
   "cell_type": "code",
   "execution_count": 2,
   "metadata": {},
   "outputs": [],
   "source": [
    "data_dir = \"../../data/\""
   ]
  },
  {
   "cell_type": "markdown",
   "metadata": {
    "colab_type": "text",
    "id": "u01OKdaOzoZE"
   },
   "source": [
    "### Training Data"
   ]
  },
  {
   "cell_type": "code",
   "execution_count": 6,
   "metadata": {
    "colab": {},
    "colab_type": "code",
    "id": "U8Pb2U3lZ7Kz"
   },
   "outputs": [],
   "source": [
    "training_file = data_dir + \"AllFiles/A0101/f000\"\n",
    "#training_file = data_dir + \"SMM/A2403_training\"\n",
    "\n",
    "training = np.loadtxt(training_file, dtype=str)"
   ]
  },
  {
   "cell_type": "markdown",
   "metadata": {
    "colab_type": "text",
    "id": "H3u9HV5hztkh"
   },
   "source": [
    "### Evaluation Data"
   ]
  },
  {
   "cell_type": "code",
   "execution_count": 8,
   "metadata": {
    "colab": {},
    "colab_type": "code",
    "id": "dyp8DTSLzu4V"
   },
   "outputs": [],
   "source": [
    "evaluation_file = data_dir + \"AllFiles/A0201/c000\"\n",
    "#evaluation_file = data_dir + \"SMM/A2403_evaluation\"\n",
    "evaluation = np.loadtxt(evaluation_file, dtype=str)"
   ]
  },
  {
   "cell_type": "markdown",
   "metadata": {
    "colab_type": "text",
    "id": "Uzw3jsGnzw0e"
   },
   "source": [
    "### Alphabet"
   ]
  },
  {
   "cell_type": "code",
   "execution_count": 9,
   "metadata": {
    "colab": {},
    "colab_type": "code",
    "id": "DYcVU4VLzyVe"
   },
   "outputs": [],
   "source": [
    "alphabet_file = data_dir + \"Matrices/alphabet\"\n",
    "alphabet = np.loadtxt(alphabet_file, dtype=str)"
   ]
  },
  {
   "cell_type": "markdown",
   "metadata": {
    "colab_type": "text",
    "id": "OWEAPaggz0dJ"
   },
   "source": [
    "### Sparse Encoding Scheme"
   ]
  },
  {
   "cell_type": "code",
   "execution_count": 10,
   "metadata": {
    "colab": {},
    "colab_type": "code",
    "id": "ecXsAxeMdYOX"
   },
   "outputs": [],
   "source": [
    "sparse_file = data_dir + \"Matrices/sparse\"\n",
    "_sparse = np.loadtxt(sparse_file, dtype=float)\n",
    "sparse = {}\n",
    "\n",
    "for i, letter_1 in enumerate(alphabet):\n",
    "    \n",
    "    sparse[letter_1] = {}\n",
    "\n",
    "    for j, letter_2 in enumerate(alphabet):\n",
    "        \n",
    "        sparse[letter_1][letter_2] = _sparse[i, j]"
   ]
  },
  {
   "cell_type": "markdown",
   "metadata": {
    "colab_type": "text",
    "id": "w2cQhiUW4QOL"
   },
   "source": [
    "## Peptide Encoding"
   ]
  },
  {
   "cell_type": "code",
   "execution_count": 11,
   "metadata": {
    "colab": {},
    "colab_type": "code",
    "id": "8UhmQwUfqNzK"
   },
   "outputs": [],
   "source": [
    "def encode(peptides, encoding_scheme, alphabet):\n",
    "    \n",
    "    encoded_peptides = []\n",
    "\n",
    "    for peptide in peptides:\n",
    "\n",
    "        encoded_peptide = []\n",
    "\n",
    "        for peptide_letter in peptide:\n",
    "\n",
    "            for alphabet_letter in alphabet:\n",
    "\n",
    "                encoded_peptide.append(encoding_scheme[peptide_letter][alphabet_letter])\n",
    "\n",
    "        encoded_peptides.append(encoded_peptide)\n",
    "        \n",
    "    return np.array(encoded_peptides)"
   ]
  },
  {
   "cell_type": "markdown",
   "metadata": {
    "colab_type": "text",
    "id": "ww-p6gy81mqk"
   },
   "source": [
    "## Error Function"
   ]
  },
  {
   "cell_type": "code",
   "execution_count": 12,
   "metadata": {
    "colab": {},
    "colab_type": "code",
    "id": "Hv2nx4Yq1lBf"
   },
   "outputs": [],
   "source": [
    "def cumulative_error(peptides, y, lamb, weights):\n",
    "\n",
    "    error = 0\n",
    "    \n",
    "    for i in range(0, len(peptides)):\n",
    "        \n",
    "        # get peptide\n",
    "        peptide = peptides[i]\n",
    "\n",
    "        # get target prediction value\n",
    "        y_target = y[i]\n",
    "        \n",
    "        # get prediction\n",
    "        y_pred = np.dot(peptide, weights)\n",
    "            \n",
    "        # calculate error\n",
    "        error += 1.0/2 * (y_pred - y_target)**2\n",
    "        \n",
    "    gerror = error + lamb*np.dot(weights, weights)\n",
    "    error /= len(peptides)\n",
    "        \n",
    "    return gerror, error"
   ]
  },
  {
   "cell_type": "markdown",
   "metadata": {},
   "source": [
    "## Predict value for a peptide list"
   ]
  },
  {
   "cell_type": "code",
   "execution_count": 13,
   "metadata": {},
   "outputs": [],
   "source": [
    "def predict(peptides, weights):\n",
    "\n",
    "    pred = []\n",
    "    \n",
    "    for i in range(0, len(peptides)):\n",
    "        \n",
    "        # get peptide\n",
    "        peptide = peptides[i]\n",
    "        \n",
    "        # get prediction\n",
    "        y_pred = np.dot(peptide, weights)\n",
    "        \n",
    "        pred.append(y_pred)\n",
    "        \n",
    "    return pred"
   ]
  },
  {
   "cell_type": "markdown",
   "metadata": {},
   "source": [
    "## Calculate MSE between two vectors"
   ]
  },
  {
   "cell_type": "code",
   "execution_count": 14,
   "metadata": {},
   "outputs": [],
   "source": [
    "def cal_mse(vec1, vec2):\n",
    "    \n",
    "    mse = 0\n",
    "    \n",
    "    for i in range(0, len(vec1)):\n",
    "        mse += (vec1[i] - vec2[i])**2\n",
    "        \n",
    "    mse /= len(vec1)\n",
    "    \n",
    "    return( mse)"
   ]
  },
  {
   "cell_type": "markdown",
   "metadata": {
    "colab_type": "text",
    "id": "kfvPqSjL2g7u"
   },
   "source": [
    "## Gradient Descent"
   ]
  },
  {
   "cell_type": "code",
   "execution_count": 15,
   "metadata": {
    "colab": {},
    "colab_type": "code",
    "id": "HMXHiHmE2gh9"
   },
   "outputs": [],
   "source": [
    "def gradient_descent(y_pred, y_target, peptide, weights, lamb_N, epsilon):\n",
    "    \n",
    "    # do is dE/dO\n",
    "    do = (y_pred - y_target)    #XX\n",
    "        \n",
    "    for i in range(0, len(weights)):\n",
    "        \n",
    "        de_dw_i = do * peptide[i] + 2*lamb_N * weights[i]    #XX\n",
    "\n",
    "        weights[i] -= epsilon * de_dw_i"
   ]
  },
  {
   "cell_type": "markdown",
   "metadata": {
    "colab_type": "text",
    "id": "AHXm8HAm4S_u"
   },
   "source": [
    "## Main Loop\n",
    "\n"
   ]
  },
  {
   "cell_type": "code",
   "execution_count": 16,
   "metadata": {
    "colab": {
     "base_uri": "https://localhost:8080/",
     "height": 1717
    },
    "colab_type": "code",
    "id": "EcHQYE2sja-y",
    "outputId": "3939a58c-88ac-4ae1-b680-edc4c2c913a1"
   },
   "outputs": [
    {
     "name": "stdout",
     "output_type": "stream",
     "text": [
      "Epoch:  0 Gerr: 11.477972780342881 0.5178164184769052 0.024807379210674066 -0.10340528554933476 0.16700836087183876\n",
      "Epoch:  1 Gerr: 8.41846383836521 0.6182385887124802 0.018194641094135745 -0.05831865191526414 0.1603021082281397\n",
      "Epoch:  2 Gerr: 7.215054100009592 0.6643375668576688 0.015593963435857224 -0.025399181446805003 0.15519161176184407\n",
      "Epoch:  3 Gerr: 6.59820707865221 0.6977662409128804 0.014260623646227717 -0.04320200067828124 0.1575407059031501\n",
      "Epoch:  4 Gerr: 6.376071721991855 0.7139787687194701 0.013780236914758034 -0.021266461244952968 0.15258684735782163\n",
      "Epoch:  5 Gerr: 6.180349570778116 0.7198929367850135 0.013357332381159702 0.057582805904402325 0.14420731136487458\n",
      "Epoch:  6 Gerr: 6.18295665418901 0.7272679811141534 0.0133625439497689 0.02307051580371713 0.1496859431221252\n",
      "Epoch:  7 Gerr: 6.1165015423008695 0.7263916147190467 0.01321907389323943 0.03371727800556511 0.1494167104392346\n",
      "Epoch:  8 Gerr: 6.070555080536675 0.7274259750758215 0.013119878512366909 0.030588037690355264 0.1526520511456046\n",
      "Epoch:  9 Gerr: 5.960903807138412 0.7316126502270057 0.01288276833805755 0.07336548171054477 0.14549023312538187\n",
      "Epoch:  10 Gerr: 5.8948190896228505 0.7344368515932944 0.012740023746958103 0.05772578975298369 0.14716982902147835\n",
      "Epoch:  11 Gerr: 5.895291671023551 0.7345967263762812 0.01274103253442619 0.05212079292054883 0.14852005688508552\n",
      "Epoch:  12 Gerr: 5.940449302127299 0.7356856442482603 0.012838656619157165 0.016525887495685242 0.14588588206181022\n",
      "Epoch:  13 Gerr: 5.886509178759783 0.7352088722444412 0.012722106163560726 0.04211685310823819 0.14815053648822366\n",
      "Epoch:  14 Gerr: 5.861261477871363 0.7379481269561905 0.01266782154590487 0.033725362832949204 0.1517500303225041\n",
      "Epoch:  15 Gerr: 5.807238067523395 0.7398482139845379 0.012550765908828327 0.026542297219741856 0.15217195051937243\n",
      "Epoch:  16 Gerr: 5.8312398284663 0.7384955852328726 0.012602454203031946 0.06223947196215672 0.145032262509958\n",
      "Epoch:  17 Gerr: 5.92845212654043 0.7338134544897154 0.012812762058284742 0.09370767116451562 0.14395638131714059\n",
      "Epoch:  18 Gerr: 5.8602600415665185 0.7364127314735929 0.012665181479068493 0.05348949685704942 0.14674360600329825\n",
      "Epoch:  19 Gerr: 5.854025601021307 0.7377179755834959 0.012651382598733826 0.03468906607659185 0.14777634319393543\n",
      "Epoch:  20 Gerr: 5.905803919224802 0.7362642595589791 0.012763230414010777 0.07066768831957795 0.143810208058783\n",
      "Epoch:  21 Gerr: 5.832250813255033 0.7377967649350263 0.012604382528889678 0.10409707350232968 0.1414228591590909\n",
      "Epoch:  22 Gerr: 5.813349649914815 0.7402579318081226 0.012563613035343466 0.0834346980430514 0.14738551584143672\n",
      "Epoch:  23 Gerr: 5.811143495747635 0.740283764626001 0.01255879310829371 0.07872868717490056 0.14731779592909136\n",
      "Epoch:  24 Gerr: 5.90872476773388 0.7359731775143983 0.012769955175433011 0.08869594159884417 0.14433515431542598\n",
      "Epoch:  25 Gerr: 5.803837947868564 0.7400355810462111 0.012543035503347828 0.07238531208279983 0.14331197840434876\n",
      "Epoch:  26 Gerr: 5.792594958804412 0.7413890302830476 0.012518554055100774 0.06837249851951085 0.1445648440895355\n",
      "Epoch:  27 Gerr: 5.836933117377608 0.7392701015654592 0.012614609386759117 0.07258955672078894 0.14923111124176539\n",
      "Epoch:  28 Gerr: 5.836448653132989 0.7414576206588082 0.01261318079610636 0.06665200567165813 0.14579240314241126\n",
      "Epoch:  29 Gerr: 5.836488224676839 0.7378072578474963 0.01261361825559895 0.02839609241751622 0.15192613134712\n",
      "Epoch:  30 Gerr: 5.888142920423953 0.7411493595245808 0.012725488868071294 0.05234291362959124 0.15385161103306264\n",
      "Epoch:  31 Gerr: 5.8046636202951705 0.7396305693197287 0.012544844185844352 0.06518569793265652 0.1432313249591992\n",
      "Epoch:  32 Gerr: 5.808434423676206 0.7404355790773558 0.012552621177229759 0.08262161343995186 0.1428818829450628\n",
      "Epoch:  33 Gerr: 5.767047899466383 0.7411743446653674 0.012463269531935259 0.07690645807211591 0.14520363621935017\n",
      "Epoch:  34 Gerr: 5.771992843654087 0.7437945032409407 0.012473784803281313 0.05294675519756816 0.14702968743328879\n",
      "Epoch:  35 Gerr: 5.778456099699364 0.7415765845908289 0.01248790700948392 0.06028624718424877 0.14930273406905434\n",
      "Epoch:  36 Gerr: 5.791517639518974 0.7408956780339901 0.01251601323005147 0.05076449381116033 0.1484806146959827\n",
      "Epoch:  37 Gerr: 5.784533528405192 0.7431926563763693 0.012500769712107309 0.08394924372096524 0.14264150859087443\n",
      "Epoch:  38 Gerr: 5.851253085682693 0.7383823612390493 0.012645535304427972 0.047411009582215946 0.14977822480964673\n",
      "Epoch:  39 Gerr: 5.762196466800572 0.7416058017140721 0.012452709924569809 0.090057048268849 0.14228565294428888\n",
      "Epoch:  40 Gerr: 5.794445074673143 0.7398638645030582 0.012522656992610218 0.08461309988834054 0.14207951533841479\n",
      "Epoch:  41 Gerr: 5.78191294355021 0.7416493633120931 0.012495495591811437 0.051830727241477484 0.14544290013445962\n",
      "Epoch:  42 Gerr: 5.928989406617923 0.7399225934627233 0.01281333562362298 0.016500340407404564 0.14617252492054\n",
      "Epoch:  43 Gerr: 5.804646069798824 0.7408817620415227 0.012544616938540653 0.011038331904954169 0.14838706701019622\n",
      "Epoch:  44 Gerr: 5.823884314536746 0.7415853160179463 0.012586469798004641 0.0019191745239461305 0.15681399240664398\n",
      "Epoch:  45 Gerr: 5.801056739584563 0.739836279864892 0.012536780236159964 0.0179684993162657 0.15129522153543046\n",
      "Epoch:  46 Gerr: 5.82483879808392 0.740234039957613 0.012588070664197478 0.06079014171874547 0.14555591884933705\n",
      "Epoch:  47 Gerr: 5.825056862087366 0.7395145464012289 0.012588525006079635 0.047806716800718435 0.14799380252653394\n",
      "Epoch:  48 Gerr: 5.817278020218723 0.7414727438357509 0.012571625121525213 0.06641355157682521 0.14534014249629365\n",
      "Epoch:  49 Gerr: 5.836118321805927 0.7386758253598912 0.012612335549494095 0.0948471471258815 0.14558748109551967\n",
      "Epoch:  50 Gerr: 5.779772447842129 0.7407994961264306 0.012490740225855545 0.07601446722646232 0.14548037041906542\n",
      "Epoch:  51 Gerr: 5.802821197250128 0.7412884006553048 0.01254031375322417 0.04876522677239291 0.14709541228712097\n",
      "Epoch:  52 Gerr: 5.7991969316676935 0.7401061714476986 0.01253274167389349 0.05220737153307912 0.1499710702467514\n",
      "Epoch:  53 Gerr: 5.846697794588524 0.7379286409708059 0.012635154078119258 0.05681619900723932 0.14570487329116813\n",
      "Epoch:  54 Gerr: 5.7868549554173825 0.7417525329287866 0.012506036629386721 0.028471374617617153 0.15410309755537133\n",
      "Epoch:  55 Gerr: 5.8485516078217215 0.7414296440522052 0.012639054410982412 0.036579246686652266 0.14897948699118393\n",
      "Epoch:  56 Gerr: 5.753105957245854 0.7426242787621069 0.012432956301200507 0.058976030975291235 0.14484366853324762\n",
      "Epoch:  57 Gerr: 5.75603040823002 0.7418231993298912 0.012439460718891038 0.05162109326661446 0.14762812034371825\n",
      "Epoch:  58 Gerr: 5.779564717588607 0.7406806649277362 0.012490236980461764 0.04915775194242112 0.14740955133038514\n",
      "Epoch:  59 Gerr: 5.839072460599646 0.7388239042529678 0.012619155778180438 0.012507883097529567 0.15464160977774816\n",
      "Epoch:  60 Gerr: 5.758203899020276 0.7435038284307973 0.012443989588737152 0.018275106436085986 0.14921091974720074\n",
      "Epoch:  61 Gerr: 5.744577886030905 0.7422781699110033 0.012414715701599197 0.03754396502609032 0.14815046907319707\n",
      "Epoch:  62 Gerr: 5.787428333601367 0.7434029441015276 0.01250695142869293 0.06923428349388436 0.14417895892363203\n",
      "Epoch:  63 Gerr: 5.789211494271579 0.740251441066699 0.012510953824892734 0.09215508195495009 0.14367013015852376\n",
      "Epoch:  64 Gerr: 5.882303635359151 0.7410773626661962 0.012712010997570012 0.06410599499442378 0.1418296627765692\n",
      "Epoch:  65 Gerr: 6.006180817273696 0.7372389304327386 0.012979590116216806 0.058111730001107066 0.14873622068223902\n",
      "Epoch:  66 Gerr: 5.771102974943709 0.7419734635521176 0.012471782430242086 0.03803268894049114 0.1503488304292621\n",
      "Epoch:  67 Gerr: 5.8254734194980085 0.7389192113653653 0.01258960195124689 0.04088331659954998 0.149784549772259\n",
      "Epoch:  68 Gerr: 5.778804328164253 0.7413040057313074 0.012488640563385126 0.028410282302686746 0.1514392114563939\n",
      "Epoch:  69 Gerr: 5.786340921143504 0.7403175267607047 0.012504762339538887 0.06101096968883163 0.1473773035878998\n",
      "Epoch:  70 Gerr: 5.898758507344227 0.7380934450348711 0.01274748642429005 0.07888191090207908 0.14831082937592088\n",
      "Epoch:  71 Gerr: 5.785602927247665 0.7403032687442992 0.012503041477650743 0.08191847463852231 0.14546436679151492\n",
      "Epoch:  72 Gerr: 5.790348719872843 0.7412848557234846 0.012513302560092688 0.07834196388263703 0.14884890048090313\n",
      "Epoch:  73 Gerr: 5.779048265260505 0.7417213768680282 0.012488969824041213 0.0374442793683366 0.15255159977696015\n",
      "Epoch:  74 Gerr: 5.756208532732586 0.7419237357757013 0.012439760082880365 0.0758479745511529 0.14400790018169596\n",
      "Epoch:  75 Gerr: 5.754698993398969 0.7420204274100455 0.01243649030882853 0.07109712119481872 0.14640903217158127\n",
      "Epoch:  76 Gerr: 5.813341593953143 0.7418512883250457 0.012562995579183587 0.06897309851750906 0.14511348247018924\n",
      "Epoch:  77 Gerr: 5.808140974123251 0.741020672863614 0.0125517568640027 0.06817488196707422 0.14692560263679164\n",
      "Epoch:  78 Gerr: 5.865438163876876 0.738261343832169 0.012675884699591128 0.05720895670134998 0.15057126967190262\n",
      "Epoch:  79 Gerr: 5.785222662636175 0.7418024651371449 0.012502248178844232 0.042333350882336425 0.14547937995397692\n",
      "Epoch:  80 Gerr: 5.750437468938044 0.7426640475994195 0.012427172649458565 0.028940121557864917 0.14791829212698865\n",
      "Epoch:  81 Gerr: 5.798065608639056 0.7415543206878368 0.01252991409964246 0.0711808672892899 0.14654527851821716\n",
      "Epoch:  82 Gerr: 5.78584784525731 0.7413693663270785 0.012503732864171665 0.07820377721931358 0.1475403861261352\n",
      "Epoch:  83 Gerr: 5.811638468122577 0.7391010183672253 0.012559610586840474 0.07521314409546913 0.14609956017192563\n",
      "Epoch:  84 Gerr: 5.806547273391524 0.739483094862316 0.012548782207890281 0.06506221015379099 0.14626383811222482\n",
      "Epoch:  85 Gerr: 5.865617516060247 0.7369405846205572 0.012676194757981016 0.021021510162359792 0.14677848910101557\n",
      "Epoch:  86 Gerr: 5.834594311702015 0.7389526193369882 0.012609219329742414 0.026345151214793028 0.14833353482977268\n",
      "Epoch:  87 Gerr: 5.925154583336512 0.7369003726718315 0.01280544319554633 0.05862750473885846 0.14926566952435674\n",
      "Epoch:  88 Gerr: 5.843642481017976 0.7409176303960158 0.012628662400195431 0.06634793658080154 0.14094701923905506\n",
      "Epoch:  89 Gerr: 5.804895883569733 0.7414110927441974 0.012544660000046793 0.07885411417763721 0.1448913128765933\n",
      "Epoch:  90 Gerr: 5.849457690953879 0.7420986740741736 0.012640890648367433 0.08768951550449677 0.13990848828367822\n",
      "Epoch:  91 Gerr: 5.853736949265045 0.7365249512341251 0.012650635988990345 0.08718055853119219 0.14396809423035062\n",
      "Epoch:  92 Gerr: 5.813216381529484 0.7391883357905902 0.012562994491654962 0.06715803373400125 0.1484103438456313\n",
      "Epoch:  93 Gerr: 5.877440837237419 0.743812754806745 0.01270133858360165 0.0341398522150011 0.1453918254762491\n",
      "Epoch:  94 Gerr: 5.808992831627146 0.7418578219141376 0.012553497543462223 0.043281521386314886 0.14816848837563232\n",
      "Epoch:  95 Gerr: 5.7518473398756 0.7426974192706663 0.012430208887229567 0.04588091133759255 0.14770363778549625\n",
      "Epoch:  96 Gerr: 5.815348682920931 0.7407457500767334 0.012567671415700926 0.07338524263396948 0.14940498066499436\n",
      "Epoch:  97 Gerr: 5.829173242527552 0.7382506674040958 0.012597512908420226 0.05280727348358234 0.1479873168983965\n",
      "Epoch:  98 Gerr: 5.831372007910743 0.7407895006760441 0.012601805610466109 0.0542613944485346 0.14777195350780806\n",
      "Epoch:  99 Gerr: 5.855760376551089 0.7394436986046189 0.01265500606172575 0.04342352413700515 0.15341044049672867\n"
     ]
    }
   ],
   "source": [
    "# Random seed \n",
    "np.random.seed(1)\n",
    "\n",
    "# peptides\n",
    "peptides = training[:, 0]\n",
    "peptides = encode(peptides, sparse, alphabet)\n",
    "N = len(peptides)\n",
    "\n",
    "# target values\n",
    "y = np.array(training[:, 1], dtype=float)\n",
    "\n",
    "#evaluation peptides\n",
    "evaluation_peptides = evaluation[:, 0]\n",
    "evaluation_peptides = encode(evaluation_peptides, sparse, alphabet)\n",
    "\n",
    "#evaluation targets\n",
    "evaluation_targets = np.array(evaluation[:, 1], dtype=float)\n",
    "\n",
    "# weights\n",
    "input_dim  = len(peptides[0])\n",
    "output_dim = 1\n",
    "w_bound = 0.1\n",
    "weights = np.random.uniform(-w_bound, w_bound, size=input_dim)\n",
    "\n",
    "# training epochs\n",
    "epochs = 100\n",
    "\n",
    "# regularization lambda\n",
    "lamb = 0.01\n",
    "#lamb = 1\n",
    "#lamb = 10\n",
    "\n",
    "# regularization lambda per target value\n",
    "lamb_N = lamb/N\n",
    "\n",
    "# learning rate\n",
    "epsilon = 0.01\n",
    "#epsilon = 0.05\n",
    "\n",
    "# error  plot\n",
    "gerror_plot = []\n",
    "mse_plot = []\n",
    "train_mse_plot = []\n",
    "eval_mse_plot = []\n",
    "train_pcc_plot = []\n",
    "eval_pcc_plot = []\n",
    "\n",
    "# for each training epoch\n",
    "for e in range(0, epochs):\n",
    "\n",
    "    # for each peptide\n",
    "    for i in range(0, N):\n",
    "\n",
    "        # random index\n",
    "        ix = np.random.randint(0, N)\n",
    "        \n",
    "        # get peptide       \n",
    "        peptide = peptides[ix]\n",
    "\n",
    "        # get target prediction value\n",
    "        y_target = y[ix]\n",
    "       \n",
    "        # get initial prediction\n",
    "        y_pred = np.dot(peptide, weights)\n",
    "\n",
    "        # gradient descent \n",
    "        gradient_descent(y_pred, y_target, peptide, weights, lamb_N, epsilon)\n",
    "\n",
    "    # compute error\n",
    "    gerr, mse = cumulative_error(peptides, y, lamb, weights) \n",
    "    gerror_plot.append(gerr)\n",
    "    mse_plot.append(mse)\n",
    "    \n",
    "    # predict on training data\n",
    "    train_pred = predict( peptides, weights )\n",
    "    train_mse = cal_mse( y, train_pred )\n",
    "    train_mse_plot.append(train_mse)\n",
    "    train_pcc = pearsonr( y, train_pred )\n",
    "    train_pcc_plot.append( train_pcc[0] )\n",
    "        \n",
    "    # predict on evaluation data\n",
    "    eval_pred = predict(evaluation_peptides, weights )\n",
    "    eval_mse = cal_mse(evaluation_targets, eval_pred )\n",
    "    eval_mse_plot.append(eval_mse)\n",
    "    eval_pcc = pearsonr(evaluation_targets, eval_pred)\n",
    "    eval_pcc_plot.append( eval_pcc[0] )\n",
    "    \n",
    "    print (\"Epoch: \", e, \"Gerr:\", gerr, train_pcc[0], train_mse, eval_pcc[0], eval_mse)"
   ]
  },
  {
   "cell_type": "markdown",
   "metadata": {
    "colab_type": "text",
    "id": "gN8BPXSm0HVy"
   },
   "source": [
    "## Error Plot"
   ]
  },
  {
   "cell_type": "code",
   "execution_count": 25,
   "metadata": {
    "colab": {
     "base_uri": "https://localhost:8080/",
     "height": 286
    },
    "colab_type": "code",
    "id": "Nca2qMKSOjGP",
    "outputId": "31d1c685-a0c2-4939-e34c-1961b744d686"
   },
   "outputs": [
    {
     "data": {
      "image/png": "[encoded data removed]",
      "text/plain": [
       "<Figure size 800x800 with 4 Axes>"
      ]
     },
     "metadata": {},
     "output_type": "display_data"
    }
   ],
   "source": [
    "fig = plt.figure(figsize=(10, 10), dpi= 80)\n",
    "\n",
    "x = np.arange(0, len(gerror_plot))\n",
    "\n",
    "plt.subplot(2, 2, 1)\n",
    "plt.plot(x, gerror_plot)\n",
    "plt.ylabel(\"Global Error\", fontsize=10);\n",
    "plt.xlabel(\"Iterations\", fontsize=10);\n",
    "\n",
    "plt.subplot(2, 2, 2)\n",
    "plt.plot(x, mse_plot)\n",
    "plt.ylabel(\"MSE\", fontsize=10);\n",
    "plt.xlabel(\"Iterations\", fontsize=10);\n",
    "\n",
    "\n",
    "x = np.arange(0, len(train_mse_plot))\n",
    "\n",
    "plt.subplot(2, 2, 3)\n",
    "plt.plot(x, train_mse_plot, label=\"Training Set\")\n",
    "plt.plot(x, eval_mse_plot, label=\"Evaluation Set\")\n",
    "plt.ylabel(\"Mean Squared Error\", fontsize=10);\n",
    "plt.xlabel(\"Iterations\", fontsize=10);\n",
    "plt.legend(loc='upper right');\n",
    "\n",
    "\n",
    "plt.subplot(2, 2, 4)\n",
    "plt.plot(x, train_pcc_plot, label=\"Training Set\")\n",
    "plt.plot(x, eval_pcc_plot, label=\"Evaluation Set\")\n",
    "plt.ylabel(\"Pearson Correlation\", fontsize=10);\n",
    "plt.xlabel(\"Iterations\", fontsize=10);\n",
    "plt.legend(loc='upper left');"
   ]
  },
  {
   "cell_type": "markdown",
   "metadata": {
    "colab_type": "text",
    "id": "Rs25DaDT0Wub"
   },
   "source": [
    "## Get PSSM Matrix"
   ]
  },
  {
   "cell_type": "markdown",
   "metadata": {
    "colab_type": "text",
    "id": "6UDmJBpo0Y10"
   },
   "source": [
    "### Vector to Matrix"
   ]
  },
  {
   "cell_type": "code",
   "execution_count": 17,
   "metadata": {
    "colab": {},
    "colab_type": "code",
    "id": "Him7vVoh0arv"
   },
   "outputs": [],
   "source": [
    "# our matrices are vectors of dictionaries\n",
    "def vector_to_matrix(vector, alphabet):\n",
    "    \n",
    "    rows = int(len(vector)/len(alphabet))\n",
    "    \n",
    "    matrix = [0] * rows\n",
    "    \n",
    "    offset = 0\n",
    "    \n",
    "    for i in range(0, rows):\n",
    "        \n",
    "        matrix[i] = {}\n",
    "        \n",
    "        for j in range(0, 20):\n",
    "            \n",
    "            matrix[i][alphabet[j]] = vector[j+offset] \n",
    "        \n",
    "        offset += len(alphabet)\n",
    "\n",
    "    return matrix"
   ]
  },
  {
   "cell_type": "markdown",
   "metadata": {
    "colab_type": "text",
    "id": "nvrlgKrS0awJ"
   },
   "source": [
    "### Matrix to Psi-Blast"
   ]
  },
  {
   "cell_type": "code",
   "execution_count": 18,
   "metadata": {
    "colab": {},
    "colab_type": "code",
    "id": "e63tgdna0cs3"
   },
   "outputs": [],
   "source": [
    "def to_psi_blast(matrix):\n",
    "\n",
    "    # print to user\n",
    "    \n",
    "    header = [\"\", \"A\", \"R\", \"N\", \"D\", \"C\", \"Q\", \"E\", \"G\", \"H\", \"I\", \"L\", \"K\", \"M\", \"F\", \"P\", \"S\", \"T\", \"W\", \"Y\", \"V\"]\n",
    "\n",
    "    print('{:>4} {:>8} {:>8} {:>8} {:>8} {:>8} {:>8} {:>8} {:>8} {:>8} {:>8} {:>8} {:>8} {:>8} {:>8} {:>8} {:>8} {:>8} {:>8} {:>8} {:>8}'.format(*header)) \n",
    "\n",
    "    letter_order = [\"A\", \"R\", \"N\", \"D\", \"C\", \"Q\", \"E\", \"G\", \"H\", \"I\", \"L\", \"K\", \"M\", \"F\", \"P\", \"S\", \"T\", \"W\", \"Y\", \"V\"]\n",
    "\n",
    "    for i, row in enumerate(matrix):\n",
    "\n",
    "        scores = []\n",
    "\n",
    "        scores.append(str(i+1) + \" A\")\n",
    "\n",
    "        for letter in letter_order:\n",
    "\n",
    "            score = row[letter]\n",
    "\n",
    "            scores.append(round(score, 4))\n",
    "\n",
    "        print('{:>4} {:>8} {:>8} {:>8} {:>8} {:>8} {:>8} {:>8} {:>8} {:>8} {:>8} {:>8} {:>8} {:>8} {:>8} {:>8} {:>8} {:>8} {:>8} {:>8} {:>8}'.format(*scores)) "
   ]
  },
  {
   "cell_type": "markdown",
   "metadata": {
    "colab_type": "text",
    "id": "hlxa9_Ik0cxc"
   },
   "source": [
    "### Print"
   ]
  },
  {
   "cell_type": "code",
   "execution_count": 19,
   "metadata": {
    "colab": {
     "base_uri": "https://localhost:8080/",
     "height": 187
    },
    "colab_type": "code",
    "id": "72AM0xu40iUV",
    "outputId": "0d4813af-41f5-418a-85c7-4dde29ead1c9"
   },
   "outputs": [
    {
     "name": "stdout",
     "output_type": "stream",
     "text": [
      "            A        R        N        D        C        Q        E        G        H        I        L        K        M        F        P        S        T        W        Y        V\n",
      " 1 A  -0.0055  -0.0209  -0.0061  -0.0407   0.0259  -0.0418  -0.0009  -0.0353  -0.0253  -0.0419  -0.0001  -0.0642   0.0147  -0.0131  -0.0348  -0.0089  -0.0204  -0.0129   0.0408  -0.0379\n",
      " 2 A   0.0835   0.0218  -0.0905  -0.0877   -0.005  -0.0172  -0.0145  -0.0371  -0.0089   0.0813   0.0574  -0.0516   0.0549  -0.0277   0.0264   0.1442   0.1533    0.027   0.0224   0.0599\n",
      " 3 A   0.0342  -0.0046   0.0236   0.1122   0.0266  -0.0143   0.0246  -0.0419   -0.039  -0.0161  -0.0283  -0.0594    0.011  -0.0247  -0.0175   0.0359  -0.0437   0.0005  -0.0025   -0.039\n",
      " 4 A  -0.0085   0.0205   0.0004   0.0229   0.0335   0.0326  -0.0083   0.0197   0.0173  -0.0168  -0.0035    0.021   0.0191  -0.0143  -0.0001   0.0129   0.0515  -0.0003   0.0148   0.0203\n",
      " 5 A   0.0472   0.0306   0.0134  -0.0034  -0.0183   0.0495   0.0016   0.0143   0.0276    0.019    0.025   0.0036  -0.0045   0.0907   0.0165   0.0092   0.0092   0.0315   0.0626   0.0177\n",
      " 6 A   0.0183   0.0334   0.0509   0.0513  -0.0173  -0.0044    0.003   0.0375   0.0261   0.0313  -0.0076  -0.0247   0.0577    0.064   0.0175   0.0165   0.0443   0.0383    0.023   0.0326\n",
      " 7 A   0.0346  -0.0064  -0.0172   0.0092  -0.0959   0.0075   0.0048   0.0175   0.0259  -0.0091   0.0117   -0.022   0.0195   0.0292  -0.0013   0.0058   0.0237   0.0591  -0.0071   0.0018\n",
      " 8 A   0.0056  -0.0342  -0.0541  -0.0279   0.0026  -0.0692   0.0051  -0.0244   -0.012   0.0261   0.0522  -0.0298   0.0074  -0.0112   -0.016  -0.0081  -0.0042  -0.0379   0.0145    0.002\n",
      " 9 A  -0.0003   -0.012   0.0235   0.0487  -0.0046  -0.1186  -0.0763  -0.0631   0.0274  -0.0061   0.0028  -0.0092   0.0085   0.0129   0.0121  -0.0185   -0.008   0.0171   0.1582   0.0049\n"
     ]
    }
   ],
   "source": [
    "matrix = vector_to_matrix(weights, alphabet)\n",
    "to_psi_blast(matrix)"
   ]
  },
  {
   "cell_type": "markdown",
   "metadata": {
    "colab_type": "text",
    "id": "Eq3byUBi0OAT"
   },
   "source": [
    "## Performance Evaluation"
   ]
  },
  {
   "cell_type": "code",
   "execution_count": 20,
   "metadata": {
    "colab": {},
    "colab_type": "code",
    "id": "lh7HCLo7PjKi"
   },
   "outputs": [],
   "source": [
    "evaluation_peptides = evaluation[:, 0]\n",
    "evaluation_peptides = np.array(encode(evaluation_peptides, sparse, alphabet))\n",
    "\n",
    "evaluation_targets = np.array(evaluation[:, 1], dtype=float)\n",
    "\n",
    "y_pred = []\n",
    "for i in range(0, len(evaluation_peptides)):\n",
    "    y_pred.append(np.dot(evaluation_peptides[i].T, weights))\n",
    "\n",
    "y_pred = np.array(y_pred)"
   ]
  },
  {
   "cell_type": "code",
   "execution_count": 21,
   "metadata": {
    "colab": {
     "base_uri": "https://localhost:8080/",
     "height": 286
    },
    "colab_type": "code",
    "id": "lAPfkFcCRsuc",
    "outputId": "1c409c4d-af9a-4021-c9d8-e6f374098a1c"
   },
   "outputs": [
    {
     "name": "stdout",
     "output_type": "stream",
     "text": [
      "PCC:  0.04342352413700515\n"
     ]
    },
    {
     "data": {
      "image/png": "[encoded data removed]",
      "text/plain": [
       "<Figure size 640x480 with 1 Axes>"
      ]
     },
     "metadata": {},
     "output_type": "display_data"
    }
   ],
   "source": [
    "pcc = pearsonr(evaluation_targets, np.array(y_pred))\n",
    "print(\"PCC: \", pcc[0])\n",
    "\n",
    "plt.scatter(y_pred, evaluation_targets);"
   ]
  }
 ],
 "metadata": {
  "colab": {
   "collapsed_sections": [],
   "name": "smm_gradient_descent_v2.ipynb",
   "provenance": [],
   "version": "0.3.2"
  },
  "kernelspec": {
   "display_name": "base",
   "language": "python",
   "name": "python3"
  },
  "language_info": {
   "codemirror_mode": {
    "name": "ipython",
    "version": 3
   },
   "file_extension": ".py",
   "mimetype": "text/x-python",
   "name": "python",
   "nbconvert_exporter": "python",
   "pygments_lexer": "ipython3",
   "version": "3.12.3"
  }
 },
 "nbformat": 4,
 "nbformat_minor": 4
}

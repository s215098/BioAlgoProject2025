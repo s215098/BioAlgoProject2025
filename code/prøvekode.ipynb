{
 "cells": [
  {
   "cell_type": "markdown",
   "id": "db20d8f3",
   "metadata": {},
   "source": [
    "# PRØV KODE AF"
   ]
  },
  {
   "cell_type": "markdown",
   "id": "78fd0dba",
   "metadata": {
    "vscode": {
     "languageId": "plaintext"
    }
   },
   "source": [
    "### I den her fil kan vi teste kode af. Husk at skriv en kommentar til hvad der bliver lavet i, så vi kan finde det igen."
   ]
  },
  {
   "cell_type": "markdown",
   "id": "7d63173b",
   "metadata": {},
   "source": []
  }
 ],
 "metadata": {
  "language_info": {
   "name": "python"
  }
 },
 "nbformat": 4,
 "nbformat_minor": 5
}
